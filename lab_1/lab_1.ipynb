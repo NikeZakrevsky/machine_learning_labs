{
 "cells": [
  {
   "cell_type": "markdown",
   "metadata": {},
   "source": [
    "## Лабораторная работа №1. Логистическая регрессия в качестве нейронной сети"
   ]
  },
  {
   "cell_type": "code",
   "execution_count": 1,
   "metadata": {},
   "outputs": [],
   "source": [
    "from sklearn.model_selection import train_test_split\n",
    "from sklearn.linear_model import LogisticRegression\n",
    "from sklearn.preprocessing import LabelEncoder\n",
    "import matplotlib.pyplot as plt\n",
    "from sklearn import metrics\n",
    "from pathlib import Path\n",
    "from PIL import Image\n",
    "from tqdm import tqdm\n",
    "import numpy as np\n",
    "import hashlib\n",
    "import random\n",
    "import pickle\n",
    "import os"
   ]
  },
  {
   "cell_type": "code",
   "execution_count": 2,
   "metadata": {},
   "outputs": [],
   "source": [
    "folder = 'notMNIST_large'\n",
    "image_size = 28"
   ]
  },
  {
   "cell_type": "code",
   "execution_count": 3,
   "metadata": {},
   "outputs": [
    {
     "data": {
      "text/plain": [
       "LabelEncoder()"
      ]
     },
     "execution_count": 3,
     "metadata": {},
     "output_type": "execute_result"
    }
   ],
   "source": [
    "label_encoder = LabelEncoder()\n",
    "data = os.listdir(folder)\n",
    "label_encoder.fit(data)"
   ]
  },
  {
   "cell_type": "markdown",
   "metadata": {},
   "source": [
    "## Загрузка данных"
   ]
  },
  {
   "cell_type": "code",
   "execution_count": 4,
   "metadata": {},
   "outputs": [
    {
     "name": "stderr",
     "output_type": "stream",
     "text": [
      " 36%|███▌      | 189996/529119 [00:22<00:43, 7775.52it/s]"
     ]
    },
    {
     "name": "stdout",
     "output_type": "stream",
     "text": [
      "Could not read: notMNIST_large/A/Um9tYW5hIEJvbGQucGZi.png\n"
     ]
    },
    {
     "name": "stderr",
     "output_type": "stream",
     "text": [
      " 38%|███▊      | 200084/529119 [00:24<00:41, 7930.01it/s]"
     ]
    },
    {
     "name": "stdout",
     "output_type": "stream",
     "text": [
      "Could not read: notMNIST_large/A/SG90IE11c3RhcmQgQlROIFBvc3Rlci50dGY=.png\n"
     ]
    },
    {
     "name": "stderr",
     "output_type": "stream",
     "text": [
      " 38%|███▊      | 203361/529119 [00:24<00:40, 8126.44it/s]"
     ]
    },
    {
     "name": "stdout",
     "output_type": "stream",
     "text": [
      "Could not read: notMNIST_large/A/RnJlaWdodERpc3BCb29rSXRhbGljLnR0Zg==.png\n"
     ]
    },
    {
     "name": "stderr",
     "output_type": "stream",
     "text": [
      " 65%|██████▌   | 344283/529119 [00:41<00:22, 8397.67it/s]"
     ]
    },
    {
     "name": "stdout",
     "output_type": "stream",
     "text": [
      "Could not read: notMNIST_large/B/TmlraXNFRi1TZW1pQm9sZEl0YWxpYy5vdGY=.png\n"
     ]
    },
    {
     "name": "stderr",
     "output_type": "stream",
     "text": [
      " 72%|███████▏  | 379513/529119 [00:45<00:17, 8556.62it/s]"
     ]
    },
    {
     "name": "stdout",
     "output_type": "stream",
     "text": [
      "Could not read: notMNIST_large/D/VHJhbnNpdCBCb2xkLnR0Zg==.png\n"
     ]
    },
    {
     "name": "stderr",
     "output_type": "stream",
     "text": [
      "100%|██████████| 529119/529119 [01:04<00:00, 8255.59it/s]\n"
     ]
    }
   ],
   "source": [
    "dataset_x = []\n",
    "dataset_y = []\n",
    "path = Path(folder)\n",
    "for file_path in tqdm(list(path.rglob('*.png'))):\n",
    "    try:\n",
    "        image = Image.open(file_path)\n",
    "        image.load()\n",
    "        image = np.asarray(image, dtype=np.int16)\n",
    "        dataset_x.append(image)\n",
    "        dataset_y.append(file_path.parts[1])\n",
    "    except:\n",
    "        print('Could not read:', file_path)\n",
    "    \n",
    "dataset_x = np.asarray(dataset_x).reshape(len(dataset_x), image_size, image_size)\n",
    "dataset_y = label_encoder.transform(dataset_y)"
   ]
  },
  {
   "cell_type": "markdown",
   "metadata": {},
   "source": [
    "## Размер датасета (529114, 28, 28)"
   ]
  },
  {
   "cell_type": "code",
   "execution_count": 5,
   "metadata": {},
   "outputs": [
    {
     "name": "stdout",
     "output_type": "stream",
     "text": [
      "(529114, 28, 28)\n",
      "(529114,)\n"
     ]
    }
   ],
   "source": [
    "print(dataset_x.shape)\n",
    "print(dataset_y.shape)"
   ]
  },
  {
   "cell_type": "markdown",
   "metadata": {},
   "source": [
    "## Вывод нескольких изображений из датасета"
   ]
  },
  {
   "cell_type": "code",
   "execution_count": 6,
   "metadata": {},
   "outputs": [
    {
     "data": {
      "image/png": "[encoded data removed]",
      "text/plain": [
       "<Figure size 432x288 with 12 Axes>"
      ]
     },
     "metadata": {
      "needs_background": "light"
     },
     "output_type": "display_data"
    }
   ],
   "source": [
    "def plot_sample_dataset(dataset, labels, title):\n",
    "    plt.suptitle(title, fontsize=16, fontweight='bold')\n",
    "    items = random.sample(range(len(labels)), 12)\n",
    "    for i, item in enumerate(items):\n",
    "        plt.subplot(3, 4, i + 1)\n",
    "        plt.axis('off')\n",
    "        plt.title(chr(ord('A') + labels[item]))\n",
    "        plt.imshow(dataset[item])\n",
    "    plt.show()\n",
    "\n",
    "plot_sample_dataset(dataset_x, dataset_y, 'Train samples')"
   ]
  },
  {
   "cell_type": "markdown",
   "metadata": {},
   "source": [
    "## Гистограмма баланса классов"
   ]
  },
  {
   "cell_type": "code",
   "execution_count": 7,
   "metadata": {},
   "outputs": [
    {
     "name": "stderr",
     "output_type": "stream",
     "text": [
      "No handles with labels found to put in legend.\n"
     ]
    },
    {
     "data": {
      "text/plain": [
       "<matplotlib.legend.Legend at 0x7f3e6b12c050>"
      ]
     },
     "execution_count": 7,
     "metadata": {},
     "output_type": "execute_result"
    },
    {
     "data": {
      "image/png": "[encoded data removed]",
      "text/plain": [
       "<Figure size 720x360 with 1 Axes>"
      ]
     },
     "metadata": {
      "needs_background": "light"
     },
     "output_type": "display_data"
    }
   ],
   "source": [
    "fig, ax = plt.subplots(nrows=1, ncols=1, figsize=(10,5))\n",
    "ax.hist(dataset_y,bins=[0,1,2,3,4,5,6,7,8,9,10], edgecolor=\"b\", histtype=\"bar\",align='left')\n",
    "ax.set_title('Histogram: Training data set')\n",
    "ax.set(xlabel='Number', ylabel='Frequency')\n",
    "ax.xaxis.set_ticks([0,1,2,3,4,5,6,7,8,9] );\n",
    "ax.legend()"
   ]
  },
  {
   "cell_type": "markdown",
   "metadata": {},
   "source": [
    "## Решейп 28х28 -> 784"
   ]
  },
  {
   "cell_type": "code",
   "execution_count": 8,
   "metadata": {},
   "outputs": [
    {
     "name": "stdout",
     "output_type": "stream",
     "text": [
      "(529114, 784)\n",
      "(529114,)\n"
     ]
    }
   ],
   "source": [
    "dataset_x = np.reshape(dataset_x,(dataset_x.shape[0],image_size*image_size))\n",
    "\n",
    "print(dataset_x.shape)\n",
    "print(dataset_y.shape)"
   ]
  },
  {
   "cell_type": "markdown",
   "metadata": {},
   "source": [
    "## Перемешиваем"
   ]
  },
  {
   "cell_type": "code",
   "execution_count": 9,
   "metadata": {},
   "outputs": [],
   "source": [
    "def randomize(dataset, labels):\n",
    "    permutation = np.random.permutation(labels.shape[0])\n",
    "    shuffled_dataset = dataset[permutation,:]\n",
    "    shuffled_labels = labels[permutation]\n",
    "    \n",
    "    return shuffled_dataset, shuffled_labels\n",
    "\n",
    "dataset_x, dataset_y = randomize(dataset_x, dataset_y)"
   ]
  },
  {
   "cell_type": "markdown",
   "metadata": {},
   "source": [
    "## Делим выборку на train, test, valid"
   ]
  },
  {
   "cell_type": "code",
   "execution_count": 10,
   "metadata": {},
   "outputs": [],
   "source": [
    "X_train = dataset_x[:300000]\n",
    "y_train = dataset_y[:300000]\n",
    "\n",
    "X_test = dataset_x[300000:420000]\n",
    "y_test = dataset_y[300000:420000]\n",
    "\n",
    "X_valid = dataset_x[420000:]\n",
    "y_valid = dataset_y[420000:]"
   ]
  },
  {
   "cell_type": "markdown",
   "metadata": {},
   "source": [
    "## Убираем дубликаты в выборке"
   ]
  },
  {
   "cell_type": "code",
   "execution_count": 11,
   "metadata": {},
   "outputs": [
    {
     "name": "stderr",
     "output_type": "stream",
     "text": [
      "120000it [09:59, 200.04it/s]\n",
      "109114it [09:21, 194.42it/s]\n"
     ]
    }
   ],
   "source": [
    "def sanitize(dataset_1, dataset_2, labels_1):\n",
    "    dataset_hash_1 = np.array([hashlib.sha256(img).hexdigest() for img in dataset_1])\n",
    "    dataset_hash_2 = np.array([hashlib.sha256(img).hexdigest() for img in dataset_2])\n",
    "    overlap = []\n",
    "    for i, hash1 in tqdm(enumerate(dataset_hash_1)):\n",
    "        duplicates = np.where(dataset_hash_2 == hash1)\n",
    "        if len(duplicates[0]):\n",
    "            overlap.append(i)\n",
    "    return np.delete(dataset_1, overlap, 0), np.delete(labels_1, overlap, None)\n",
    "\n",
    "X_test, y_test = sanitize(X_test, X_train, y_test)\n",
    "X_valid, y_valid = sanitize(X_valid, X_train, y_valid)"
   ]
  },
  {
   "cell_type": "markdown",
   "metadata": {},
   "source": [
    "## Нормализация данных"
   ]
  },
  {
   "cell_type": "code",
   "execution_count": 12,
   "metadata": {},
   "outputs": [],
   "source": [
    "X_train = X_train / 255\n",
    "X_test = X_test / 255\n",
    "X_valid = X_valid / 255"
   ]
  },
  {
   "cell_type": "markdown",
   "metadata": {},
   "source": [
    "## Сохраняем выборки на диск"
   ]
  },
  {
   "cell_type": "code",
   "execution_count": 13,
   "metadata": {},
   "outputs": [],
   "source": [
    "with open('X_train.pickle', 'wb') as f:\n",
    "    pickle.dump(X_train, f, protocol=pickle.HIGHEST_PROTOCOL)\n",
    "\n",
    "with open('y_train.pickle', 'wb') as f:\n",
    "    pickle.dump(y_train, f, protocol=pickle.HIGHEST_PROTOCOL)\n",
    "    \n",
    "with open('X_test.pickle', 'wb') as f:\n",
    "    pickle.dump(X_test, f, protocol=pickle.HIGHEST_PROTOCOL)\n",
    "\n",
    "with open('y_test.pickle', 'wb') as f:\n",
    "    pickle.dump(y_test, f, protocol=pickle.HIGHEST_PROTOCOL)\n",
    "    \n",
    "with open('X_valid.pickle', 'wb') as f:\n",
    "    pickle.dump(X_valid, f, protocol=pickle.HIGHEST_PROTOCOL)\n",
    "\n",
    "with open('y_valid.pickle', 'wb') as f:\n",
    "    pickle.dump(y_valid, f, protocol=pickle.HIGHEST_PROTOCOL)"
   ]
  },
  {
   "cell_type": "markdown",
   "metadata": {},
   "source": [
    "## Обучение линейной регрессии на размере выборки 50, 100, 1000, 5000 и полной"
   ]
  },
  {
   "cell_type": "code",
   "execution_count": 14,
   "metadata": {},
   "outputs": [
    {
     "name": "stdout",
     "output_type": "stream",
     "text": [
      "Accuracy: 0.5351794732079437 when sample_size= 50\n",
      "Accuracy: 0.6356533330738618 when sample_size= 100\n",
      "Accuracy: 0.7531063606200072 when sample_size= 1000\n",
      "Accuracy: 0.7504694812839948 when sample_size= 5000\n"
     ]
    },
    {
     "name": "stderr",
     "output_type": "stream",
     "text": [
      "/home/hd16547/.local/lib/python3.7/site-packages/sklearn/linear_model/_logistic.py:940: ConvergenceWarning: lbfgs failed to converge (status=1):\n",
      "STOP: TOTAL NO. of ITERATIONS REACHED LIMIT.\n",
      "\n",
      "Increase the number of iterations (max_iter) or scale the data as shown in:\n",
      "    https://scikit-learn.org/stable/modules/preprocessing.html\n",
      "Please also refer to the documentation for alternative solver options:\n",
      "    https://scikit-learn.org/stable/modules/linear_model.html#logistic-regression\n",
      "  extra_warning_msg=_LOGISTIC_SOLVER_CONVERGENCE_MSG)\n"
     ]
    },
    {
     "name": "stdout",
     "output_type": "stream",
     "text": [
      "Accuracy: 0.8153114144765649 when sample_size= 300000\n"
     ]
    }
   ],
   "source": [
    "def train_and_predict(sample_size, X_train_d, y_train_d, X_test_d, y_test_d):\n",
    "    regr = LogisticRegression(max_iter=1000)\n",
    "    X_train = X_train_d[:sample_size]\n",
    "    y_train = y_train_d[:sample_size]\n",
    "    regr.fit(X_train, y_train)\n",
    "\n",
    "    pred_labels = regr.predict(X_test)\n",
    "\n",
    "    print('Accuracy:', regr.score(X_test, y_test), 'when sample_size=', sample_size)\n",
    "\n",
    "for sample_size in [50, 100, 1000, 5000, len(X_train)]:\n",
    "    train_and_predict(sample_size, X_train, y_train, X_test, y_test)"
   ]
  },
  {
   "cell_type": "code",
   "execution_count": null,
   "metadata": {},
   "outputs": [],
   "source": []
  }
 ],
 "metadata": {
  "kernelspec": {
   "display_name": "Python 3",
   "language": "python",
   "name": "python3"
  },
  "language_info": {
   "codemirror_mode": {
    "name": "ipython",
    "version": 3
   },
   "file_extension": ".py",
   "mimetype": "text/x-python",
   "name": "python",
   "nbconvert_exporter": "python",
   "pygments_lexer": "ipython3",
   "version": "3.7.5"
  }
 },
 "nbformat": 4,
 "nbformat_minor": 2
}
