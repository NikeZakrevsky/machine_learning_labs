{
 "cells": [
  {
   "cell_type": "code",
   "execution_count": 2,
   "metadata": {},
   "outputs": [],
   "source": [
    "import pickle\n",
    "import tensorflow as tf\n",
    "from tensorflow import keras\n",
    "import numpy as np"
   ]
  },
  {
   "cell_type": "code",
   "execution_count": 3,
   "metadata": {},
   "outputs": [],
   "source": [
    "image_size = 28\n",
    "num_labels = 10"
   ]
  },
  {
   "cell_type": "code",
   "execution_count": 4,
   "metadata": {},
   "outputs": [],
   "source": [
    "with open('X_train.pickle', 'rb') as f:\n",
    "    X_train = pickle.load(f)\n",
    "\n",
    "with open('y_train.pickle', 'rb') as f:\n",
    "    y_train = pickle.load(f)\n",
    "    \n",
    "with open('X_test.pickle', 'rb') as f:\n",
    "    X_test = pickle.load(f)\n",
    "\n",
    "with open('y_test.pickle', 'rb') as f:\n",
    "    y_test = pickle.load(f)\n",
    "    \n",
    "with open('X_valid.pickle', 'rb') as f:\n",
    "    X_valid = pickle.load(f)\n",
    "\n",
    "with open('y_valid.pickle', 'rb') as f:\n",
    "    y_valid = pickle.load(f)"
   ]
  },
  {
   "cell_type": "code",
   "execution_count": 5,
   "metadata": {},
   "outputs": [],
   "source": [
    "sgd = tf.keras.optimizers.SGD(lr=0.001, decay=1e-6, momentum=0.9, nesterov=True)"
   ]
  },
  {
   "cell_type": "code",
   "execution_count": 6,
   "metadata": {},
   "outputs": [
    {
     "name": "stdout",
     "output_type": "stream",
     "text": [
      "WARNING:tensorflow:From /home/hd16547/.local/lib/python3.7/site-packages/tensorflow/python/ops/init_ops.py:1251: calling VarianceScaling.__init__ (from tensorflow.python.ops.init_ops) with dtype is deprecated and will be removed in a future version.\n",
      "Instructions for updating:\n",
      "Call initializer instance with the dtype argument instead of passing it to the constructor\n"
     ]
    }
   ],
   "source": [
    "model = keras.Sequential([\n",
    "    keras.layers.Dense(512, activation='relu', input_shape=(784,), kernel_regularizer=tf.keras.regularizers.l2(0.001)),\n",
    "    keras.layers.Dense(512, activation='relu', kernel_regularizer=tf.keras.regularizers.l2(0.001)),\n",
    "    keras.layers.Dense(10, activation='softmax')\n",
    "])"
   ]
  },
  {
   "cell_type": "code",
   "execution_count": 7,
   "metadata": {},
   "outputs": [],
   "source": [
    "model.compile(optimizer=sgd, loss='sparse_categorical_crossentropy', metrics=['accuracy'])"
   ]
  },
  {
   "cell_type": "code",
   "execution_count": 8,
   "metadata": {},
   "outputs": [
    {
     "name": "stdout",
     "output_type": "stream",
     "text": [
      "Train on 300000 samples, validate on 93163 samples\n",
      "Epoch 1/5\n",
      "300000/300000 [==============================] - 22s 73us/sample - loss: 1.5377 - acc: 0.8385 - val_loss: 1.3351 - val_acc: 0.8443\n",
      "Epoch 2/5\n",
      "300000/300000 [==============================] - 22s 72us/sample - loss: 1.1366 - acc: 0.8681 - val_loss: 1.0507 - val_acc: 0.8614\n",
      "Epoch 3/5\n",
      "300000/300000 [==============================] - 22s 73us/sample - loss: 0.9040 - acc: 0.8803 - val_loss: 0.8674 - val_acc: 0.8697\n",
      "Epoch 4/5\n",
      "300000/300000 [==============================] - 22s 72us/sample - loss: 0.7475 - acc: 0.8881 - val_loss: 0.7364 - val_acc: 0.8765\n",
      "Epoch 5/5\n",
      "300000/300000 [==============================] - 22s 73us/sample - loss: 0.6393 - acc: 0.8938 - val_loss: 0.6479 - val_acc: 0.8805\n"
     ]
    },
    {
     "data": {
      "text/plain": [
       "<tensorflow.python.keras.callbacks.History at 0x7fcae81bf5d0>"
      ]
     },
     "execution_count": 8,
     "metadata": {},
     "output_type": "execute_result"
    }
   ],
   "source": [
    "model.fit(X_train, y_train, validation_data=(X_valid, y_valid), epochs=5)"
   ]
  },
  {
   "cell_type": "code",
   "execution_count": 9,
   "metadata": {},
   "outputs": [],
   "source": [
    "model = keras.Sequential([\n",
    "    keras.layers.Dense(512, activation='relu', input_shape=(784,), kernel_regularizer=tf.keras.regularizers.l2(0.001)),\n",
    "    keras.layers.Dropout(0.2),\n",
    "    keras.layers.Dense(1024, activation='relu', kernel_regularizer=tf.keras.regularizers.l2(0.001)),\n",
    "    keras.layers.Dropout(0.2),\n",
    "    keras.layers.Dense(512, activation='relu', kernel_regularizer=tf.keras.regularizers.l2(0.001)),\n",
    "    keras.layers.Dropout(0.2),\n",
    "    keras.layers.Dense(10, activation='softmax')\n",
    "])\n",
    "model.compile(optimizer='adam', loss='sparse_categorical_crossentropy', metrics=['accuracy'])"
   ]
  },
  {
   "cell_type": "code",
   "execution_count": 11,
   "metadata": {},
   "outputs": [
    {
     "name": "stdout",
     "output_type": "stream",
     "text": [
      "Train on 300000 samples, validate on 93163 samples\n",
      "Epoch 1/10\n",
      "300000/300000 [==============================] - 56s 187us/sample - loss: 0.7255 - acc: 0.8346 - val_loss: 0.6895 - val_acc: 0.8340\n",
      "Epoch 2/10\n",
      "300000/300000 [==============================] - 56s 187us/sample - loss: 0.6739 - acc: 0.8408 - val_loss: 0.6552 - val_acc: 0.8428\n",
      "Epoch 3/10\n",
      "300000/300000 [==============================] - 56s 187us/sample - loss: 0.6632 - acc: 0.8422 - val_loss: 0.6354 - val_acc: 0.8470\n",
      "Epoch 4/10\n",
      "300000/300000 [==============================] - 56s 187us/sample - loss: 0.6578 - acc: 0.8427 - val_loss: 0.6369 - val_acc: 0.8442\n",
      "Epoch 5/10\n",
      "300000/300000 [==============================] - 56s 188us/sample - loss: 0.6572 - acc: 0.8424 - val_loss: 0.6529 - val_acc: 0.8392\n",
      "Epoch 6/10\n",
      "300000/300000 [==============================] - 56s 188us/sample - loss: 0.6570 - acc: 0.8416 - val_loss: 0.6532 - val_acc: 0.8422\n",
      "Epoch 7/10\n",
      "300000/300000 [==============================] - 56s 188us/sample - loss: 0.6517 - acc: 0.8426 - val_loss: 0.6295 - val_acc: 0.8474\n",
      "Epoch 8/10\n",
      "300000/300000 [==============================] - 57s 189us/sample - loss: 0.6537 - acc: 0.8422 - val_loss: 0.6165 - val_acc: 0.8500\n",
      "Epoch 9/10\n",
      "300000/300000 [==============================] - 57s 190us/sample - loss: 0.6526 - acc: 0.8420 - val_loss: 0.6318 - val_acc: 0.8448\n",
      "Epoch 10/10\n",
      "300000/300000 [==============================] - 57s 189us/sample - loss: 0.6554 - acc: 0.8412 - val_loss: 0.6158 - val_acc: 0.8513\n"
     ]
    },
    {
     "data": {
      "text/plain": [
       "<tensorflow.python.keras.callbacks.History at 0x7fcad57f2a90>"
      ]
     },
     "execution_count": 11,
     "metadata": {},
     "output_type": "execute_result"
    }
   ],
   "source": [
    "model.fit(X_train, y_train, validation_data=(X_valid, y_valid), epochs=10)"
   ]
  },
  {
   "cell_type": "code",
   "execution_count": null,
   "metadata": {},
   "outputs": [],
   "source": []
  }
 ],
 "metadata": {
  "kernelspec": {
   "display_name": "Python 3",
   "language": "python",
   "name": "python3"
  },
  "language_info": {
   "codemirror_mode": {
    "name": "ipython",
    "version": 3
   },
   "file_extension": ".py",
   "mimetype": "text/x-python",
   "name": "python",
   "nbconvert_exporter": "python",
   "pygments_lexer": "ipython3",
   "version": "3.7.5"
  }
 },
 "nbformat": 4,
 "nbformat_minor": 4
}
