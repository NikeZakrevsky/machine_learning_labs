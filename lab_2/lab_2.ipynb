{
 "cells": [
  {
   "cell_type": "code",
   "execution_count": 3,
   "metadata": {},
   "outputs": [],
   "source": [
    "import pickle\n",
    "import tensorflow as tf\n",
    "from tensorflow import keras\n",
    "import numpy as np"
   ]
  },
  {
   "cell_type": "code",
   "execution_count": 4,
   "metadata": {},
   "outputs": [],
   "source": [
    "image_size = 28\n",
    "num_labels = 10"
   ]
  },
  {
   "cell_type": "code",
   "execution_count": 5,
   "metadata": {},
   "outputs": [],
   "source": [
    "with open('../data/lab_1/X_train.pickle', 'rb') as f:\n",
    "    X_train = pickle.load(f)\n",
    "\n",
    "with open('../data/lab_1/y_train.pickle', 'rb') as f:\n",
    "    y_train = pickle.load(f)\n",
    "    \n",
    "with open('../data/lab_1/X_test.pickle', 'rb') as f:\n",
    "    X_test = pickle.load(f)\n",
    "\n",
    "with open('../data/lab_1/y_test.pickle', 'rb') as f:\n",
    "    y_test = pickle.load(f)\n",
    "    \n",
    "with open('../data/lab_1/X_valid.pickle', 'rb') as f:\n",
    "    X_valid = pickle.load(f)\n",
    "\n",
    "with open('../data/lab_1/y_valid.pickle', 'rb') as f:\n",
    "    y_valid = pickle.load(f)"
   ]
  },
  {
   "cell_type": "code",
   "execution_count": 6,
   "metadata": {},
   "outputs": [],
   "source": [
    "sgd = tf.keras.optimizers.SGD(lr=0.001, decay=1e-6, momentum=0.9, nesterov=True)"
   ]
  },
  {
   "cell_type": "code",
   "execution_count": 7,
   "metadata": {},
   "outputs": [
    {
     "name": "stdout",
     "output_type": "stream",
     "text": [
      "WARNING:tensorflow:From /home/hd16547/.local/lib/python3.7/site-packages/tensorflow/python/ops/init_ops.py:1251: calling VarianceScaling.__init__ (from tensorflow.python.ops.init_ops) with dtype is deprecated and will be removed in a future version.\n",
      "Instructions for updating:\n",
      "Call initializer instance with the dtype argument instead of passing it to the constructor\n",
      "Model: \"sequential\"\n",
      "_________________________________________________________________\n",
      "Layer (type)                 Output Shape              Param #   \n",
      "=================================================================\n",
      "dense (Dense)                (None, 512)               401920    \n",
      "_________________________________________________________________\n",
      "dense_1 (Dense)              (None, 512)               262656    \n",
      "_________________________________________________________________\n",
      "dense_2 (Dense)              (None, 10)                5130      \n",
      "=================================================================\n",
      "Total params: 669,706\n",
      "Trainable params: 669,706\n",
      "Non-trainable params: 0\n",
      "_________________________________________________________________\n"
     ]
    }
   ],
   "source": [
    "model = keras.Sequential([\n",
    "    keras.layers.Dense(512, activation='relu', input_shape=(784,), kernel_regularizer=tf.keras.regularizers.l2(0.001)),\n",
    "    keras.layers.Dense(512, activation='relu', kernel_regularizer=tf.keras.regularizers.l2(0.001)),\n",
    "    keras.layers.Dense(10, activation='softmax')\n",
    "])\n",
    "model.summary()"
   ]
  },
  {
   "cell_type": "code",
   "execution_count": 8,
   "metadata": {},
   "outputs": [],
   "source": [
    "model.compile(optimizer=sgd, loss='sparse_categorical_crossentropy', metrics=['accuracy'])"
   ]
  },
  {
   "cell_type": "code",
   "execution_count": 14,
   "metadata": {},
   "outputs": [
    {
     "name": "stdout",
     "output_type": "stream",
     "text": [
      "Train on 300000 samples, validate on 93124 samples\n",
      "Epoch 1/20\n",
      "  6688/300000 [..............................] - ETA: 1:44 - loss: 0.6604 - acc: 0.8488"
     ]
    },
    {
     "ename": "KeyboardInterrupt",
     "evalue": "",
     "output_type": "error",
     "traceback": [
      "\u001b[0;31m---------------------------------------------------------------------------\u001b[0m",
      "\u001b[0;31mKeyboardInterrupt\u001b[0m                         Traceback (most recent call last)",
      "\u001b[0;32m<ipython-input-14-a5fcf5537026>\u001b[0m in \u001b[0;36m<module>\u001b[0;34m\u001b[0m\n\u001b[0;32m----> 1\u001b[0;31m \u001b[0mmodel\u001b[0m\u001b[0;34m.\u001b[0m\u001b[0mfit\u001b[0m\u001b[0;34m(\u001b[0m\u001b[0mX_train\u001b[0m\u001b[0;34m,\u001b[0m \u001b[0my_train\u001b[0m\u001b[0;34m,\u001b[0m \u001b[0mvalidation_data\u001b[0m\u001b[0;34m=\u001b[0m\u001b[0;34m(\u001b[0m\u001b[0mX_valid\u001b[0m\u001b[0;34m,\u001b[0m \u001b[0my_valid\u001b[0m\u001b[0;34m)\u001b[0m\u001b[0;34m,\u001b[0m \u001b[0mepochs\u001b[0m\u001b[0;34m=\u001b[0m\u001b[0;36m20\u001b[0m\u001b[0;34m)\u001b[0m\u001b[0;34m\u001b[0m\u001b[0;34m\u001b[0m\u001b[0m\n\u001b[0m",
      "\u001b[0;32m~/.local/lib/python3.7/site-packages/tensorflow/python/keras/engine/training.py\u001b[0m in \u001b[0;36mfit\u001b[0;34m(self, x, y, batch_size, epochs, verbose, callbacks, validation_split, validation_data, shuffle, class_weight, sample_weight, initial_epoch, steps_per_epoch, validation_steps, validation_freq, max_queue_size, workers, use_multiprocessing, **kwargs)\u001b[0m\n\u001b[1;32m    778\u001b[0m           \u001b[0mvalidation_steps\u001b[0m\u001b[0;34m=\u001b[0m\u001b[0mvalidation_steps\u001b[0m\u001b[0;34m,\u001b[0m\u001b[0;34m\u001b[0m\u001b[0;34m\u001b[0m\u001b[0m\n\u001b[1;32m    779\u001b[0m           \u001b[0mvalidation_freq\u001b[0m\u001b[0;34m=\u001b[0m\u001b[0mvalidation_freq\u001b[0m\u001b[0;34m,\u001b[0m\u001b[0;34m\u001b[0m\u001b[0;34m\u001b[0m\u001b[0m\n\u001b[0;32m--> 780\u001b[0;31m           steps_name='steps_per_epoch')\n\u001b[0m\u001b[1;32m    781\u001b[0m \u001b[0;34m\u001b[0m\u001b[0m\n\u001b[1;32m    782\u001b[0m   def evaluate(self,\n",
      "\u001b[0;32m~/.local/lib/python3.7/site-packages/tensorflow/python/keras/engine/training_arrays.py\u001b[0m in \u001b[0;36mmodel_iteration\u001b[0;34m(model, inputs, targets, sample_weights, batch_size, epochs, verbose, callbacks, val_inputs, val_targets, val_sample_weights, shuffle, initial_epoch, steps_per_epoch, validation_steps, validation_freq, mode, validation_in_fit, prepared_feed_values_from_dataset, steps_name, **kwargs)\u001b[0m\n\u001b[1;32m    361\u001b[0m \u001b[0;34m\u001b[0m\u001b[0m\n\u001b[1;32m    362\u001b[0m         \u001b[0;31m# Get outputs.\u001b[0m\u001b[0;34m\u001b[0m\u001b[0;34m\u001b[0m\u001b[0;34m\u001b[0m\u001b[0m\n\u001b[0;32m--> 363\u001b[0;31m         \u001b[0mbatch_outs\u001b[0m \u001b[0;34m=\u001b[0m \u001b[0mf\u001b[0m\u001b[0;34m(\u001b[0m\u001b[0mins_batch\u001b[0m\u001b[0;34m)\u001b[0m\u001b[0;34m\u001b[0m\u001b[0;34m\u001b[0m\u001b[0m\n\u001b[0m\u001b[1;32m    364\u001b[0m         \u001b[0;32mif\u001b[0m \u001b[0;32mnot\u001b[0m \u001b[0misinstance\u001b[0m\u001b[0;34m(\u001b[0m\u001b[0mbatch_outs\u001b[0m\u001b[0;34m,\u001b[0m \u001b[0mlist\u001b[0m\u001b[0;34m)\u001b[0m\u001b[0;34m:\u001b[0m\u001b[0;34m\u001b[0m\u001b[0;34m\u001b[0m\u001b[0m\n\u001b[1;32m    365\u001b[0m           \u001b[0mbatch_outs\u001b[0m \u001b[0;34m=\u001b[0m \u001b[0;34m[\u001b[0m\u001b[0mbatch_outs\u001b[0m\u001b[0;34m]\u001b[0m\u001b[0;34m\u001b[0m\u001b[0;34m\u001b[0m\u001b[0m\n",
      "\u001b[0;32m~/.local/lib/python3.7/site-packages/tensorflow/python/keras/backend.py\u001b[0m in \u001b[0;36m__call__\u001b[0;34m(self, inputs)\u001b[0m\n\u001b[1;32m   3290\u001b[0m \u001b[0;34m\u001b[0m\u001b[0m\n\u001b[1;32m   3291\u001b[0m     fetched = self._callable_fn(*array_vals,\n\u001b[0;32m-> 3292\u001b[0;31m                                 run_metadata=self.run_metadata)\n\u001b[0m\u001b[1;32m   3293\u001b[0m     \u001b[0mself\u001b[0m\u001b[0;34m.\u001b[0m\u001b[0m_call_fetch_callbacks\u001b[0m\u001b[0;34m(\u001b[0m\u001b[0mfetched\u001b[0m\u001b[0;34m[\u001b[0m\u001b[0;34m-\u001b[0m\u001b[0mlen\u001b[0m\u001b[0;34m(\u001b[0m\u001b[0mself\u001b[0m\u001b[0;34m.\u001b[0m\u001b[0m_fetches\u001b[0m\u001b[0;34m)\u001b[0m\u001b[0;34m:\u001b[0m\u001b[0;34m]\u001b[0m\u001b[0;34m)\u001b[0m\u001b[0;34m\u001b[0m\u001b[0;34m\u001b[0m\u001b[0m\n\u001b[1;32m   3294\u001b[0m     output_structure = nest.pack_sequence_as(\n",
      "\u001b[0;32m~/.local/lib/python3.7/site-packages/tensorflow/python/client/session.py\u001b[0m in \u001b[0;36m__call__\u001b[0;34m(self, *args, **kwargs)\u001b[0m\n\u001b[1;32m   1456\u001b[0m         ret = tf_session.TF_SessionRunCallable(self._session._session,\n\u001b[1;32m   1457\u001b[0m                                                \u001b[0mself\u001b[0m\u001b[0;34m.\u001b[0m\u001b[0m_handle\u001b[0m\u001b[0;34m,\u001b[0m \u001b[0margs\u001b[0m\u001b[0;34m,\u001b[0m\u001b[0;34m\u001b[0m\u001b[0;34m\u001b[0m\u001b[0m\n\u001b[0;32m-> 1458\u001b[0;31m                                                run_metadata_ptr)\n\u001b[0m\u001b[1;32m   1459\u001b[0m         \u001b[0;32mif\u001b[0m \u001b[0mrun_metadata\u001b[0m\u001b[0;34m:\u001b[0m\u001b[0;34m\u001b[0m\u001b[0;34m\u001b[0m\u001b[0m\n\u001b[1;32m   1460\u001b[0m           \u001b[0mproto_data\u001b[0m \u001b[0;34m=\u001b[0m \u001b[0mtf_session\u001b[0m\u001b[0;34m.\u001b[0m\u001b[0mTF_GetBuffer\u001b[0m\u001b[0;34m(\u001b[0m\u001b[0mrun_metadata_ptr\u001b[0m\u001b[0;34m)\u001b[0m\u001b[0;34m\u001b[0m\u001b[0;34m\u001b[0m\u001b[0m\n",
      "\u001b[0;31mKeyboardInterrupt\u001b[0m: "
     ]
    }
   ],
   "source": [
    "model.fit(X_train, y_train, validation_data=(X_valid, y_valid), epochs=20)"
   ]
  },
  {
   "cell_type": "code",
   "execution_count": 18,
   "metadata": {},
   "outputs": [
    {
     "name": "stdout",
     "output_type": "stream",
     "text": [
      "Model: \"sequential_5\"\n",
      "_________________________________________________________________\n",
      "Layer (type)                 Output Shape              Param #   \n",
      "=================================================================\n",
      "dense_18 (Dense)             (None, 512)               401920    \n",
      "_________________________________________________________________\n",
      "dropout_11 (Dropout)         (None, 512)               0         \n",
      "_________________________________________________________________\n",
      "dense_19 (Dense)             (None, 512)               262656    \n",
      "_________________________________________________________________\n",
      "dropout_12 (Dropout)         (None, 512)               0         \n",
      "_________________________________________________________________\n",
      "dense_20 (Dense)             (None, 10)                5130      \n",
      "=================================================================\n",
      "Total params: 669,706\n",
      "Trainable params: 669,706\n",
      "Non-trainable params: 0\n",
      "_________________________________________________________________\n"
     ]
    }
   ],
   "source": [
    "model = keras.Sequential([\n",
    "    keras.layers.Dense(512, activation='relu', input_shape=(784,), kernel_regularizer=tf.keras.regularizers.l2(0.001)),\n",
    "    keras.layers.Dropout(0.2),\n",
    "    keras.layers.Dense(512, activation='relu', kernel_regularizer=tf.keras.regularizers.l2(0.001)),\n",
    "    keras.layers.Dropout(0.2),\n",
    "    keras.layers.Dense(10, activation='softmax')\n",
    "])\n",
    "model.summary()\n",
    "model.compile(optimizer=sgd, loss='sparse_categorical_crossentropy', metrics=['accuracy'])"
   ]
  },
  {
   "cell_type": "code",
   "execution_count": null,
   "metadata": {},
   "outputs": [],
   "source": []
  },
  {
   "cell_type": "code",
   "execution_count": 19,
   "metadata": {},
   "outputs": [
    {
     "name": "stdout",
     "output_type": "stream",
     "text": [
      "Train on 300000 samples, validate on 93124 samples\n",
      "Epoch 1/50\n",
      "300000/300000 [==============================] - 25s 82us/sample - loss: 1.6061 - acc: 0.8226 - val_loss: 1.3852 - val_acc: 0.8419\n",
      "Epoch 2/50\n",
      "300000/300000 [==============================] - 25s 82us/sample - loss: 1.2289 - acc: 0.8560 - val_loss: 1.1245 - val_acc: 0.8573\n",
      "Epoch 3/50\n",
      "300000/300000 [==============================] - 25s 84us/sample - loss: 1.0091 - acc: 0.8682 - val_loss: 0.9414 - val_acc: 0.8668\n",
      "Epoch 4/50\n",
      "300000/300000 [==============================] - 25s 83us/sample - loss: 0.8513 - acc: 0.8759 - val_loss: 0.8123 - val_acc: 0.8720\n",
      "Epoch 5/50\n",
      "300000/300000 [==============================] - 25s 84us/sample - loss: 0.7356 - acc: 0.8817 - val_loss: 0.7123 - val_acc: 0.8779\n",
      "Epoch 6/50\n",
      "300000/300000 [==============================] - 25s 84us/sample - loss: 0.6516 - acc: 0.8861 - val_loss: 0.6456 - val_acc: 0.8800\n",
      "Epoch 7/50\n",
      "300000/300000 [==============================] - 25s 84us/sample - loss: 0.5885 - acc: 0.8898 - val_loss: 0.5904 - val_acc: 0.8835\n",
      "Epoch 8/50\n",
      "300000/300000 [==============================] - 25s 85us/sample - loss: 0.5418 - acc: 0.8929 - val_loss: 0.5484 - val_acc: 0.8865\n",
      "Epoch 9/50\n",
      "300000/300000 [==============================] - 26s 88us/sample - loss: 0.5064 - acc: 0.8948 - val_loss: 0.5208 - val_acc: 0.8880\n",
      "Epoch 10/50\n",
      "300000/300000 [==============================] - 26s 86us/sample - loss: 0.4795 - acc: 0.8966 - val_loss: 0.4998 - val_acc: 0.8887\n",
      "Epoch 11/50\n",
      "300000/300000 [==============================] - 26s 86us/sample - loss: 0.4585 - acc: 0.8989 - val_loss: 0.4854 - val_acc: 0.8895\n",
      "Epoch 12/50\n",
      "300000/300000 [==============================] - 26s 85us/sample - loss: 0.4424 - acc: 0.9002 - val_loss: 0.4708 - val_acc: 0.8910\n",
      "Epoch 13/50\n",
      "300000/300000 [==============================] - 26s 86us/sample - loss: 0.4305 - acc: 0.9016 - val_loss: 0.4612 - val_acc: 0.8912\n",
      "Epoch 14/50\n",
      "300000/300000 [==============================] - 31s 104us/sample - loss: 0.4205 - acc: 0.9027 - val_loss: 0.4486 - val_acc: 0.8939\n",
      "Epoch 15/50\n",
      "300000/300000 [==============================] - 29s 96us/sample - loss: 0.4125 - acc: 0.9040 - val_loss: 0.4436 - val_acc: 0.8942\n",
      "Epoch 16/50\n",
      "300000/300000 [==============================] - 28s 94us/sample - loss: 0.4062 - acc: 0.9049 - val_loss: 0.4414 - val_acc: 0.8935\n",
      "Epoch 17/50\n",
      "300000/300000 [==============================] - 28s 93us/sample - loss: 0.4004 - acc: 0.9055 - val_loss: 0.4391 - val_acc: 0.8939\n",
      "Epoch 18/50\n",
      "300000/300000 [==============================] - 28s 93us/sample - loss: 0.3962 - acc: 0.9061 - val_loss: 0.4319 - val_acc: 0.8955\n",
      "Epoch 19/50\n",
      "300000/300000 [==============================] - 27s 91us/sample - loss: 0.3922 - acc: 0.9073 - val_loss: 0.4358 - val_acc: 0.8942\n",
      "Epoch 20/50\n",
      "300000/300000 [==============================] - 25s 83us/sample - loss: 0.3886 - acc: 0.9080 - val_loss: 0.4281 - val_acc: 0.8963\n",
      "Epoch 21/50\n",
      "300000/300000 [==============================] - 25s 82us/sample - loss: 0.3860 - acc: 0.9086 - val_loss: 0.4276 - val_acc: 0.8963\n",
      "Epoch 22/50\n",
      "300000/300000 [==============================] - 25s 85us/sample - loss: 0.3835 - acc: 0.9093 - val_loss: 0.4259 - val_acc: 0.8967\n",
      "Epoch 23/50\n",
      "300000/300000 [==============================] - 25s 84us/sample - loss: 0.3814 - acc: 0.9098 - val_loss: 0.4222 - val_acc: 0.8984\n",
      "Epoch 24/50\n",
      "300000/300000 [==============================] - 26s 88us/sample - loss: 0.3793 - acc: 0.9107 - val_loss: 0.4185 - val_acc: 0.8989\n",
      "Epoch 25/50\n",
      "300000/300000 [==============================] - 25s 85us/sample - loss: 0.3778 - acc: 0.9107 - val_loss: 0.4212 - val_acc: 0.8980\n",
      "Epoch 26/50\n",
      "300000/300000 [==============================] - 27s 91us/sample - loss: 0.3755 - acc: 0.9117 - val_loss: 0.4203 - val_acc: 0.8981\n",
      "Epoch 27/50\n",
      "300000/300000 [==============================] - 28s 92us/sample - loss: 0.3740 - acc: 0.9123 - val_loss: 0.4178 - val_acc: 0.8993\n",
      "Epoch 28/50\n",
      "300000/300000 [==============================] - 26s 85us/sample - loss: 0.3725 - acc: 0.9122 - val_loss: 0.4210 - val_acc: 0.8985\n",
      "Epoch 29/50\n",
      "300000/300000 [==============================] - 26s 87us/sample - loss: 0.3716 - acc: 0.9131 - val_loss: 0.4179 - val_acc: 0.8987\n",
      "Epoch 30/50\n",
      "300000/300000 [==============================] - 27s 91us/sample - loss: 0.3703 - acc: 0.9131 - val_loss: 0.4151 - val_acc: 0.8989\n",
      "Epoch 31/50\n",
      "300000/300000 [==============================] - 27s 91us/sample - loss: 0.3680 - acc: 0.9141 - val_loss: 0.4220 - val_acc: 0.8972\n",
      "Epoch 32/50\n",
      "300000/300000 [==============================] - 30s 99us/sample - loss: 0.3670 - acc: 0.9140 - val_loss: 0.4124 - val_acc: 0.9010\n",
      "Epoch 33/50\n",
      "300000/300000 [==============================] - 27s 91us/sample - loss: 0.3661 - acc: 0.9146 - val_loss: 0.4129 - val_acc: 0.9009\n",
      "Epoch 34/50\n",
      "300000/300000 [==============================] - 26s 87us/sample - loss: 0.3648 - acc: 0.9146 - val_loss: 0.4121 - val_acc: 0.9008\n",
      "Epoch 35/50\n",
      "300000/300000 [==============================] - 27s 90us/sample - loss: 0.3640 - acc: 0.9151 - val_loss: 0.4129 - val_acc: 0.9012\n",
      "Epoch 36/50\n",
      "300000/300000 [==============================] - 28s 92us/sample - loss: 0.3632 - acc: 0.9151 - val_loss: 0.4158 - val_acc: 0.9002\n",
      "Epoch 37/50\n",
      "300000/300000 [==============================] - 27s 91us/sample - loss: 0.3620 - acc: 0.9157 - val_loss: 0.4079 - val_acc: 0.9026\n",
      "Epoch 38/50\n",
      "300000/300000 [==============================] - 28s 92us/sample - loss: 0.3611 - acc: 0.9162 - val_loss: 0.4110 - val_acc: 0.9017\n",
      "Epoch 39/50\n",
      "300000/300000 [==============================] - 27s 90us/sample - loss: 0.3605 - acc: 0.9159 - val_loss: 0.4111 - val_acc: 0.9015\n",
      "Epoch 40/50\n",
      "300000/300000 [==============================] - 27s 91us/sample - loss: 0.3594 - acc: 0.9161 - val_loss: 0.4124 - val_acc: 0.9008\n",
      "Epoch 41/50\n",
      "300000/300000 [==============================] - 26s 88us/sample - loss: 0.3584 - acc: 0.9163 - val_loss: 0.4098 - val_acc: 0.9019\n",
      "Epoch 42/50\n",
      "300000/300000 [==============================] - 26s 85us/sample - loss: 0.3572 - acc: 0.9174 - val_loss: 0.4138 - val_acc: 0.9007\n",
      "Epoch 43/50\n",
      "300000/300000 [==============================] - 26s 87us/sample - loss: 0.3569 - acc: 0.9174 - val_loss: 0.4144 - val_acc: 0.9003\n",
      "Epoch 44/50\n",
      "300000/300000 [==============================] - 26s 87us/sample - loss: 0.3559 - acc: 0.9176 - val_loss: 0.4071 - val_acc: 0.9028\n",
      "Epoch 45/50\n",
      "300000/300000 [==============================] - 27s 90us/sample - loss: 0.3547 - acc: 0.9182 - val_loss: 0.4081 - val_acc: 0.9025\n",
      "Epoch 46/50\n",
      "300000/300000 [==============================] - 27s 91us/sample - loss: 0.3541 - acc: 0.9187 - val_loss: 0.4081 - val_acc: 0.9030\n",
      "Epoch 47/50\n",
      "300000/300000 [==============================] - 27s 91us/sample - loss: 0.3531 - acc: 0.9188 - val_loss: 0.4074 - val_acc: 0.9030\n",
      "Epoch 48/50\n",
      "300000/300000 [==============================] - 30s 99us/sample - loss: 0.3528 - acc: 0.9186 - val_loss: 0.4099 - val_acc: 0.9021\n",
      "Epoch 49/50\n",
      "300000/300000 [==============================] - 27s 90us/sample - loss: 0.3528 - acc: 0.9189 - val_loss: 0.4088 - val_acc: 0.9021\n",
      "Epoch 50/50\n",
      "300000/300000 [==============================] - 27s 91us/sample - loss: 0.3512 - acc: 0.9192 - val_loss: 0.4088 - val_acc: 0.9027\n"
     ]
    },
    {
     "data": {
      "text/plain": [
       "<tensorflow.python.keras.callbacks.History at 0x7f32d4881c90>"
      ]
     },
     "execution_count": 19,
     "metadata": {},
     "output_type": "execute_result"
    }
   ],
   "source": [
    "model.fit(X_train, y_train, validation_data=(X_valid, y_valid), epochs=50)"
   ]
  },
  {
   "cell_type": "code",
   "execution_count": null,
   "metadata": {},
   "outputs": [],
   "source": []
  }
 ],
 "metadata": {
  "kernelspec": {
   "display_name": "Python 3",
   "language": "python",
   "name": "python3"
  },
  "language_info": {
   "codemirror_mode": {
    "name": "ipython",
    "version": 3
   },
   "file_extension": ".py",
   "mimetype": "text/x-python",
   "name": "python",
   "nbconvert_exporter": "python",
   "pygments_lexer": "ipython3",
   "version": "3.7.5"
  }
 },
 "nbformat": 4,
 "nbformat_minor": 4
}
