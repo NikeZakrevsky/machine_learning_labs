{
 "cells": [
  {
   "cell_type": "code",
   "execution_count": 4,
   "metadata": {},
   "outputs": [],
   "source": [
    "import pickle\n",
    "import tensorflow as tf\n",
    "from tensorflow import keras\n",
    "import numpy as np\n",
    "from keras.optimizers import Adam\n",
    "from keras.models import Sequential\n",
    "from keras.preprocessing.image import ImageDataGenerator\n",
    "from keras.callbacks import ReduceLROnPlateau\n",
    "from keras.layers import Dense, Activation, Flatten, Conv2D, MaxPool2D, Dropout, BatchNormalization, GlobalMaxPool2D, MaxPooling2D"
   ]
  },
  {
   "cell_type": "code",
   "execution_count": 2,
   "metadata": {},
   "outputs": [],
   "source": [
    "image_size = 28\n",
    "num_labels = 10"
   ]
  },
  {
   "cell_type": "markdown",
   "metadata": {},
   "source": [
    "## Загрузка данных"
   ]
  },
  {
   "cell_type": "code",
   "execution_count": 3,
   "metadata": {},
   "outputs": [],
   "source": [
    "with open('X_train.pickle', 'rb') as f:\n",
    "    X_train = pickle.load(f)\n",
    "\n",
    "with open('y_train.pickle', 'rb') as f:\n",
    "    y_train = pickle.load(f)\n",
    "    \n",
    "with open('X_test.pickle', 'rb') as f:\n",
    "    X_test = pickle.load(f)\n",
    "\n",
    "with open('y_test.pickle', 'rb') as f:\n",
    "    y_test = pickle.load(f)\n",
    "    \n",
    "with open('X_valid.pickle', 'rb') as f:\n",
    "    X_valid = pickle.load(f)\n",
    "\n",
    "with open('y_valid.pickle', 'rb') as f:\n",
    "    y_valid = pickle.load(f)"
   ]
  },
  {
   "cell_type": "code",
   "execution_count": 6,
   "metadata": {},
   "outputs": [],
   "source": [
    "def reformat(dataset, labels):\n",
    "    dataset = dataset.reshape((dataset.shape[0], 28, 28, 1)).astype(np.float32)\n",
    "    labels = (np.arange(num_labels) == labels[:, None]).astype(np.float32)\n",
    "    return dataset, labels"
   ]
  },
  {
   "cell_type": "code",
   "execution_count": 7,
   "metadata": {},
   "outputs": [],
   "source": [
    "X_train, y_train = reformat(X_train, y_train)\n",
    "X_test, y_test = reformat(X_test, y_test)\n",
    "X_valid, y_valid = reformat(X_valid, y_valid)"
   ]
  },
  {
   "cell_type": "code",
   "execution_count": 16,
   "metadata": {},
   "outputs": [],
   "source": [
    "model = Sequential()\n",
    "\n",
    "model.add(Conv2D(64, (3, 3), activation='relu', input_shape=(28, 28, 1)))\n",
    "model.add(Conv2D(64, (3, 3), activation='relu'))\n",
    "model.add(Flatten())\n",
    "model.add(Dense(10, activation='softmax'))\n",
    "model.compile(loss='categorical_crossentropy',\n",
    "              optimizer='sgd',\n",
    "              metrics=['accuracy'])"
   ]
  },
  {
   "cell_type": "code",
   "execution_count": 17,
   "metadata": {},
   "outputs": [
    {
     "name": "stdout",
     "output_type": "stream",
     "text": [
      "Train on 300000 samples, validate on 93163 samples\n",
      "Epoch 1/10\n",
      "300000/300000 [==============================] - 178s 593us/step - loss: 0.8853 - accuracy: 0.7722 - val_loss: 0.7707 - val_accuracy: 0.7996\n",
      "Epoch 2/10\n",
      "300000/300000 [==============================] - 181s 605us/step - loss: 0.7051 - accuracy: 0.8167 - val_loss: 0.7211 - val_accuracy: 0.8103\n",
      "Epoch 3/10\n",
      "300000/300000 [==============================] - 179s 596us/step - loss: 0.6465 - accuracy: 0.8301 - val_loss: 0.6651 - val_accuracy: 0.8218\n",
      "Epoch 4/10\n",
      "300000/300000 [==============================] - 178s 594us/step - loss: 0.5791 - accuracy: 0.8446 - val_loss: 0.5928 - val_accuracy: 0.8368\n",
      "Epoch 5/10\n",
      "300000/300000 [==============================] - 178s 595us/step - loss: 0.5247 - accuracy: 0.8568 - val_loss: 0.5524 - val_accuracy: 0.8447\n",
      "Epoch 6/10\n",
      "300000/300000 [==============================] - 178s 594us/step - loss: 0.4919 - accuracy: 0.8644 - val_loss: 0.5263 - val_accuracy: 0.8527\n",
      "Epoch 7/10\n",
      "300000/300000 [==============================] - 185s 616us/step - loss: 0.4705 - accuracy: 0.8701 - val_loss: 0.5078 - val_accuracy: 0.8580\n",
      "Epoch 8/10\n",
      "300000/300000 [==============================] - 198s 658us/step - loss: 0.4546 - accuracy: 0.8745 - val_loss: 0.4922 - val_accuracy: 0.8622\n",
      "Epoch 9/10\n",
      "300000/300000 [==============================] - 181s 605us/step - loss: 0.4422 - accuracy: 0.8784 - val_loss: 0.4819 - val_accuracy: 0.8656\n",
      "Epoch 10/10\n",
      "300000/300000 [==============================] - 183s 608us/step - loss: 0.4326 - accuracy: 0.8815 - val_loss: 0.4738 - val_accuracy: 0.8690\n"
     ]
    },
    {
     "data": {
      "text/plain": [
       "<keras.callbacks.callbacks.History at 0x7f677428e7d0>"
      ]
     },
     "execution_count": 17,
     "metadata": {},
     "output_type": "execute_result"
    }
   ],
   "source": [
    "model.fit(X_train, y_train,\n",
    "          epochs=10,\n",
    "          batch_size=512,\n",
    "          validation_data=(X_valid, y_valid),\n",
    "          verbose=1)"
   ]
  },
  {
   "cell_type": "code",
   "execution_count": 9,
   "metadata": {},
   "outputs": [
    {
     "name": "stdout",
     "output_type": "stream",
     "text": [
      "WARNING:tensorflow:From /home/hd16547/.local/lib/python3.7/site-packages/keras/backend/tensorflow_backend.py:4070: The name tf.nn.max_pool is deprecated. Please use tf.nn.max_pool2d instead.\n",
      "\n"
     ]
    }
   ],
   "source": [
    "model = Sequential()\n",
    "\n",
    "model.add(Conv2D(64, (3, 3), activation='relu', input_shape=(28, 28, 1)))\n",
    "model.add(MaxPooling2D(pool_size=(2, 2)))\n",
    "model.add(Flatten())\n",
    "model.add(Dense(10, activation='softmax'))\n",
    "model.compile(loss='categorical_crossentropy',\n",
    "              optimizer='sgd',\n",
    "              metrics=['accuracy'])"
   ]
  },
  {
   "cell_type": "code",
   "execution_count": 10,
   "metadata": {},
   "outputs": [
    {
     "name": "stdout",
     "output_type": "stream",
     "text": [
      "Train on 300000 samples, validate on 93163 samples\n",
      "Epoch 1/10\n",
      "300000/300000 [==============================] - 42s 141us/step - loss: 0.9783 - accuracy: 0.7617 - val_loss: 0.7614 - val_accuracy: 0.8010\n",
      "Epoch 2/10\n",
      "300000/300000 [==============================] - 43s 142us/step - loss: 0.6918 - accuracy: 0.8197 - val_loss: 0.7266 - val_accuracy: 0.8091\n",
      "Epoch 3/10\n",
      "300000/300000 [==============================] - 43s 142us/step - loss: 0.6661 - accuracy: 0.8250 - val_loss: 0.7067 - val_accuracy: 0.8127\n",
      "Epoch 4/10\n",
      "300000/300000 [==============================] - 43s 142us/step - loss: 0.6498 - accuracy: 0.8287 - val_loss: 0.6929 - val_accuracy: 0.8158\n",
      "Epoch 5/10\n",
      "300000/300000 [==============================] - 43s 142us/step - loss: 0.6355 - accuracy: 0.8316 - val_loss: 0.6801 - val_accuracy: 0.8172\n",
      "Epoch 6/10\n",
      "300000/300000 [==============================] - 43s 142us/step - loss: 0.6215 - accuracy: 0.8347 - val_loss: 0.6657 - val_accuracy: 0.8211o\n",
      "Epoch 7/10\n",
      "300000/300000 [==============================] - 43s 143us/step - loss: 0.6074 - accuracy: 0.8380 - val_loss: 0.6502 - val_accuracy: 0.8242\n",
      "Epoch 8/10\n",
      "300000/300000 [==============================] - 44s 146us/step - loss: 0.5934 - accuracy: 0.8415 - val_loss: 0.6369 - val_accuracy: 0.8263\n",
      "Epoch 9/10\n",
      "300000/300000 [==============================] - 42s 141us/step - loss: 0.5799 - accuracy: 0.8447 - val_loss: 0.6219 - val_accuracy: 0.8316\n",
      "Epoch 10/10\n",
      "300000/300000 [==============================] - 42s 141us/step - loss: 0.5671 - accuracy: 0.8479 - val_loss: 0.6092 - val_accuracy: 0.8342\n"
     ]
    },
    {
     "data": {
      "text/plain": [
       "<keras.callbacks.callbacks.History at 0x7f6774036f10>"
      ]
     },
     "execution_count": 10,
     "metadata": {},
     "output_type": "execute_result"
    }
   ],
   "source": [
    "model.fit(X_train, y_train,\n",
    "          epochs=10,\n",
    "          batch_size=512,\n",
    "          validation_data=(X_valid, y_valid),\n",
    "          verbose=1)"
   ]
  },
  {
   "cell_type": "code",
   "execution_count": 8,
   "metadata": {},
   "outputs": [
    {
     "name": "stdout",
     "output_type": "stream",
     "text": [
      "WARNING:tensorflow:From /home/hd16547/.local/lib/python3.7/site-packages/keras/backend/tensorflow_backend.py:4070: The name tf.nn.max_pool is deprecated. Please use tf.nn.max_pool2d instead.\n",
      "\n"
     ]
    }
   ],
   "source": [
    "model = Sequential()\n",
    "model.add(Conv2D(filters=32, kernel_size=(5,5), padding='same', activation='relu', input_shape=(28, 28, 1)))\n",
    "model.add(MaxPool2D(strides=2))\n",
    "model.add(Conv2D(filters=48, kernel_size=(5,5), padding='valid', activation='relu'))\n",
    "model.add(MaxPool2D(strides=2))\n",
    "model.add(Flatten())\n",
    "model.add(Dense(256, activation='relu'))\n",
    "model.add(Dense(84, activation='relu'))\n",
    "model.add(Dense(10, activation='softmax'))"
   ]
  },
  {
   "cell_type": "code",
   "execution_count": 9,
   "metadata": {},
   "outputs": [],
   "source": [
    "adam = Adam(lr=1e-4)\n",
    "model.compile(loss='categorical_crossentropy', metrics=['accuracy'], optimizer=adam)"
   ]
  },
  {
   "cell_type": "code",
   "execution_count": 10,
   "metadata": {},
   "outputs": [],
   "source": [
    "datagen = ImageDataGenerator(\n",
    "            rotation_range=10, \n",
    "            width_shift_range=0.1, \n",
    "            height_shift_range=0.1, \n",
    "            zoom_range=0.1)\n",
    "datagen.fit(X_train)"
   ]
  },
  {
   "cell_type": "code",
   "execution_count": 11,
   "metadata": {},
   "outputs": [],
   "source": [
    "reduce_lr = ReduceLROnPlateau(monitor='val_accuracy', \n",
    "                                patience=3, \n",
    "                                verbose=1, \n",
    "                                factor=0.2, \n",
    "                                min_lr=1e-6)"
   ]
  },
  {
   "cell_type": "code",
   "execution_count": 13,
   "metadata": {},
   "outputs": [
    {
     "name": "stdout",
     "output_type": "stream",
     "text": [
      "Epoch 1/10\n",
      "586/586 [==============================] - 64s 109ms/step - loss: 0.3809 - accuracy: 0.8857 - val_loss: 0.3508 - val_accuracy: 0.8955\n",
      "Epoch 2/10\n",
      "586/586 [==============================] - 63s 108ms/step - loss: 0.3746 - accuracy: 0.8879 - val_loss: 0.3446 - val_accuracy: 0.8971\n",
      "Epoch 3/10\n",
      "586/586 [==============================] - 63s 108ms/step - loss: 0.3689 - accuracy: 0.8893 - val_loss: 0.3414 - val_accuracy: 0.8982\n",
      "Epoch 4/10\n",
      "586/586 [==============================] - 63s 108ms/step - loss: 0.3629 - accuracy: 0.8906 - val_loss: 0.3387 - val_accuracy: 0.8987\n",
      "Epoch 5/10\n",
      "586/586 [==============================] - 63s 108ms/step - loss: 0.3567 - accuracy: 0.8922 - val_loss: 0.3303 - val_accuracy: 0.9008\n",
      "Epoch 6/10\n",
      "586/586 [==============================] - 63s 108ms/step - loss: 0.3519 - accuracy: 0.8942 - val_loss: 0.3297 - val_accuracy: 0.9009\n",
      "Epoch 7/10\n",
      "586/586 [==============================] - 63s 108ms/step - loss: 0.3477 - accuracy: 0.8951 - val_loss: 0.3239 - val_accuracy: 0.9029\n",
      "Epoch 8/10\n",
      "586/586 [==============================] - 63s 108ms/step - loss: 0.3434 - accuracy: 0.8966 - val_loss: 0.3232 - val_accuracy: 0.9030\n",
      "Epoch 9/10\n",
      "586/586 [==============================] - 63s 108ms/step - loss: 0.3400 - accuracy: 0.8974 - val_loss: 0.3254 - val_accuracy: 0.9026\n",
      "Epoch 10/10\n",
      "586/586 [==============================] - 63s 108ms/step - loss: 0.3368 - accuracy: 0.8982 - val_loss: 0.3169 - val_accuracy: 0.9054\n"
     ]
    },
    {
     "data": {
      "text/plain": [
       "<keras.callbacks.callbacks.History at 0x7fc6e83bc910>"
      ]
     },
     "execution_count": 13,
     "metadata": {},
     "output_type": "execute_result"
    }
   ],
   "source": [
    "model.fit(datagen.flow(X_train, y_train, batch_size=512),\n",
    "          epochs=10,\n",
    "          validation_data=(X_valid, y_valid),\n",
    "          callbacks=[reduce_lr],\n",
    "          verbose=1)"
   ]
  },
  {
   "cell_type": "code",
   "execution_count": null,
   "metadata": {},
   "outputs": [],
   "source": []
  }
 ],
 "metadata": {
  "kernelspec": {
   "display_name": "Python 3",
   "language": "python",
   "name": "python3"
  },
  "language_info": {
   "codemirror_mode": {
    "name": "ipython",
    "version": 3
   },
   "file_extension": ".py",
   "mimetype": "text/x-python",
   "name": "python",
   "nbconvert_exporter": "python",
   "pygments_lexer": "ipython3",
   "version": "3.7.5"
  }
 },
 "nbformat": 4,
 "nbformat_minor": 4
}
