{
 "cells": [
  {
   "cell_type": "code",
   "execution_count": 3,
   "metadata": {},
   "outputs": [],
   "source": [
    "import pickle\n",
    "import tensorflow as tf\n",
    "from tensorflow import keras\n",
    "import numpy as np\n",
    "from keras.optimizers import Adam\n",
    "from keras.models import Sequential\n",
    "from keras.preprocessing.image import ImageDataGenerator\n",
    "from keras.callbacks import ReduceLROnPlateau\n",
    "from keras.layers import Dense, Activation, Flatten, Conv2D, MaxPool2D, Dropout, BatchNormalization, GlobalMaxPool2D, MaxPooling2D"
   ]
  },
  {
   "cell_type": "code",
   "execution_count": 4,
   "metadata": {},
   "outputs": [],
   "source": [
    "image_size = 28\n",
    "num_labels = 10"
   ]
  },
  {
   "cell_type": "markdown",
   "metadata": {},
   "source": [
    "## Загрузка данных"
   ]
  },
  {
   "cell_type": "code",
   "execution_count": 5,
   "metadata": {},
   "outputs": [],
   "source": [
    "with open('../data/lab_1/X_train.pickle', 'rb') as f:\n",
    "    X_train = pickle.load(f)\n",
    "\n",
    "with open('../data/lab_1/y_train.pickle', 'rb') as f:\n",
    "    y_train = pickle.load(f)\n",
    "    \n",
    "with open('../data/lab_1/X_test.pickle', 'rb') as f:\n",
    "    X_test = pickle.load(f)\n",
    "\n",
    "with open('../data/lab_1/y_test.pickle', 'rb') as f:\n",
    "    y_test = pickle.load(f)\n",
    "    \n",
    "with open('../data/lab_1/X_valid.pickle', 'rb') as f:\n",
    "    X_valid = pickle.load(f)\n",
    "\n",
    "with open('../data/lab_1/y_valid.pickle', 'rb') as f:\n",
    "    y_valid = pickle.load(f)"
   ]
  },
  {
   "cell_type": "code",
   "execution_count": 6,
   "metadata": {},
   "outputs": [],
   "source": [
    "def reformat(dataset, labels):\n",
    "    dataset = dataset.reshape((dataset.shape[0], 28, 28, 1)).astype(np.float32)\n",
    "    labels = (np.arange(num_labels) == labels[:, None]).astype(np.float32)\n",
    "    return dataset, labels"
   ]
  },
  {
   "cell_type": "code",
   "execution_count": 7,
   "metadata": {},
   "outputs": [],
   "source": [
    "X_train, y_train = reformat(X_train, y_train)\n",
    "X_test, y_test = reformat(X_test, y_test)\n",
    "X_valid, y_valid = reformat(X_valid, y_valid)"
   ]
  },
  {
   "cell_type": "code",
   "execution_count": 8,
   "metadata": {},
   "outputs": [
    {
     "name": "stdout",
     "output_type": "stream",
     "text": [
      "Model: \"sequential_1\"\n",
      "_________________________________________________________________\n",
      "Layer (type)                 Output Shape              Param #   \n",
      "=================================================================\n",
      "conv2d_1 (Conv2D)            (None, 26, 26, 64)        640       \n",
      "_________________________________________________________________\n",
      "conv2d_2 (Conv2D)            (None, 24, 24, 64)        36928     \n",
      "_________________________________________________________________\n",
      "flatten_1 (Flatten)          (None, 36864)             0         \n",
      "_________________________________________________________________\n",
      "dense_1 (Dense)              (None, 10)                368650    \n",
      "=================================================================\n",
      "Total params: 406,218\n",
      "Trainable params: 406,218\n",
      "Non-trainable params: 0\n",
      "_________________________________________________________________\n"
     ]
    }
   ],
   "source": [
    "model = Sequential()\n",
    "\n",
    "model.add(Conv2D(64, (3, 3), activation='relu', input_shape=(28, 28, 1)))\n",
    "model.add(Conv2D(64, (3, 3), activation='relu'))\n",
    "model.add(Flatten())\n",
    "model.add(Dense(10, activation='softmax'))\n",
    "model.compile(loss='categorical_crossentropy',\n",
    "              optimizer='sgd',\n",
    "              metrics=['accuracy'])\n",
    "model.summary()"
   ]
  },
  {
   "cell_type": "code",
   "execution_count": 8,
   "metadata": {},
   "outputs": [],
   "source": [
    "from keras.callbacks import EarlyStopping, ReduceLROnPlateau\n",
    "\n",
    "earlystop = EarlyStopping(patience=10)\n",
    "\n",
    "learning_rate_reduction = ReduceLROnPlateau(monitor='val_loss', \n",
    "                                            patience=2, \n",
    "                                            verbose=1, \n",
    "                                            factor=0.5, \n",
    "                                            min_lr=0.00001)\n",
    "\n",
    "callbacks = [earlystop, learning_rate_reduction]"
   ]
  },
  {
   "cell_type": "code",
   "execution_count": 10,
   "metadata": {},
   "outputs": [
    {
     "name": "stdout",
     "output_type": "stream",
     "text": [
      "WARNING:tensorflow:From /home/hd16547/.local/lib/python3.7/site-packages/keras/backend/tensorflow_backend.py:422: The name tf.global_variables is deprecated. Please use tf.compat.v1.global_variables instead.\n",
      "\n",
      "Train on 300000 samples, validate on 93124 samples\n",
      "Epoch 1/50\n",
      "300000/300000 [==============================] - 186s 619us/step - loss: 0.8862 - accuracy: 0.7714 - val_loss: 0.7778 - val_accuracy: 0.7945\n",
      "Epoch 2/50\n",
      "300000/300000 [==============================] - 186s 620us/step - loss: 0.7108 - accuracy: 0.8152 - val_loss: 0.7239 - val_accuracy: 0.8092\n",
      "Epoch 3/50\n",
      "300000/300000 [==============================] - 188s 627us/step - loss: 0.6516 - accuracy: 0.8285 - val_loss: 0.6598 - val_accuracy: 0.8215\n",
      "Epoch 4/50\n",
      "300000/300000 [==============================] - 186s 619us/step - loss: 0.5890 - accuracy: 0.8421 - val_loss: 0.5957 - val_accuracy: 0.8369\n",
      "Epoch 5/50\n",
      "300000/300000 [==============================] - 187s 624us/step - loss: 0.5344 - accuracy: 0.8540 - val_loss: 0.5553 - val_accuracy: 0.8445\n",
      "Epoch 6/50\n",
      "300000/300000 [==============================] - 186s 619us/step - loss: 0.4973 - accuracy: 0.8627 - val_loss: 0.5238 - val_accuracy: 0.8531\n",
      "Epoch 7/50\n",
      "300000/300000 [==============================] - 185s 615us/step - loss: 0.4724 - accuracy: 0.8692 - val_loss: 0.5004 - val_accuracy: 0.8624\n",
      "Epoch 8/50\n",
      "300000/300000 [==============================] - 182s 607us/step - loss: 0.4542 - accuracy: 0.8743 - val_loss: 0.4863 - val_accuracy: 0.8659\n",
      "Epoch 9/50\n",
      "300000/300000 [==============================] - 181s 604us/step - loss: 0.4411 - accuracy: 0.8781 - val_loss: 0.4759 - val_accuracy: 0.8683\n",
      "Epoch 10/50\n",
      "300000/300000 [==============================] - 182s 606us/step - loss: 0.4316 - accuracy: 0.8813 - val_loss: 0.4689 - val_accuracy: 0.8705\n",
      "Epoch 11/50\n",
      "300000/300000 [==============================] - 182s 607us/step - loss: 0.4241 - accuracy: 0.8835 - val_loss: 0.4599 - val_accuracy: 0.8739\n",
      "Epoch 12/50\n",
      "300000/300000 [==============================] - 208s 694us/step - loss: 0.4184 - accuracy: 0.8853 - val_loss: 0.4551 - val_accuracy: 0.8751\n",
      "Epoch 13/50\n",
      "300000/300000 [==============================] - 184s 614us/step - loss: 0.4137 - accuracy: 0.8865 - val_loss: 0.4526 - val_accuracy: 0.8766\n",
      "Epoch 14/50\n",
      "300000/300000 [==============================] - 184s 614us/step - loss: 0.4097 - accuracy: 0.8878 - val_loss: 0.4507 - val_accuracy: 0.8765\n",
      "Epoch 15/50\n",
      "300000/300000 [==============================] - 185s 615us/step - loss: 0.4061 - accuracy: 0.8886 - val_loss: 0.4469 - val_accuracy: 0.8771\n",
      "Epoch 16/50\n",
      "300000/300000 [==============================] - 184s 615us/step - loss: 0.4029 - accuracy: 0.8896 - val_loss: 0.4445 - val_accuracy: 0.8789\n",
      "Epoch 17/50\n",
      "300000/300000 [==============================] - 185s 615us/step - loss: 0.3998 - accuracy: 0.8904 - val_loss: 0.4416 - val_accuracy: 0.8795\n",
      "Epoch 18/50\n",
      "300000/300000 [==============================] - 184s 614us/step - loss: 0.3970 - accuracy: 0.8911 - val_loss: 0.4411 - val_accuracy: 0.8793\n",
      "Epoch 19/50\n",
      "300000/300000 [==============================] - 184s 614us/step - loss: 0.3947 - accuracy: 0.8917 - val_loss: 0.4385 - val_accuracy: 0.8791\n",
      "Epoch 20/50\n",
      "300000/300000 [==============================] - 187s 624us/step - loss: 0.3921 - accuracy: 0.8925 - val_loss: 0.4357 - val_accuracy: 0.8812\n",
      "Epoch 21/50\n",
      "300000/300000 [==============================] - 196s 652us/step - loss: 0.3895 - accuracy: 0.8931 - val_loss: 0.4362 - val_accuracy: 0.8815\n",
      "Epoch 22/50\n",
      "300000/300000 [==============================] - 182s 607us/step - loss: 0.3873 - accuracy: 0.8935 - val_loss: 0.4349 - val_accuracy: 0.8819\n",
      "Epoch 23/50\n",
      "300000/300000 [==============================] - 182s 607us/step - loss: 0.3850 - accuracy: 0.8941 - val_loss: 0.4315 - val_accuracy: 0.8831\n",
      "Epoch 24/50\n",
      "300000/300000 [==============================] - 182s 606us/step - loss: 0.3828 - accuracy: 0.8947 - val_loss: 0.4307 - val_accuracy: 0.8837\n",
      "Epoch 25/50\n",
      "300000/300000 [==============================] - 182s 606us/step - loss: 0.3808 - accuracy: 0.8953 - val_loss: 0.4301 - val_accuracy: 0.8826\n",
      "Epoch 26/50\n",
      "300000/300000 [==============================] - 182s 607us/step - loss: 0.3788 - accuracy: 0.8960 - val_loss: 0.4261 - val_accuracy: 0.8837\n",
      "Epoch 27/50\n",
      "300000/300000 [==============================] - 182s 607us/step - loss: 0.3767 - accuracy: 0.8966 - val_loss: 0.4268 - val_accuracy: 0.8838\n",
      "Epoch 28/50\n",
      "300000/300000 [==============================] - 182s 605us/step - loss: 0.3747 - accuracy: 0.8971 - val_loss: 0.4238 - val_accuracy: 0.8844\n",
      "Epoch 29/50\n",
      "300000/300000 [==============================] - 204s 681us/step - loss: 0.3726 - accuracy: 0.8976 - val_loss: 0.4262 - val_accuracy: 0.8846\n",
      "Epoch 30/50\n",
      "300000/300000 [==============================] - 206s 687us/step - loss: 0.3708 - accuracy: 0.8980 - val_loss: 0.4217 - val_accuracy: 0.8855\n",
      "Epoch 31/50\n",
      "300000/300000 [==============================] - 210s 700us/step - loss: 0.3689 - accuracy: 0.8988 - val_loss: 0.4212 - val_accuracy: 0.8855\n",
      "Epoch 32/50\n",
      "300000/300000 [==============================] - 199s 662us/step - loss: 0.3670 - accuracy: 0.8990 - val_loss: 0.4197 - val_accuracy: 0.8858\n",
      "Epoch 33/50\n",
      "300000/300000 [==============================] - 186s 620us/step - loss: 0.3652 - accuracy: 0.8995 - val_loss: 0.4203 - val_accuracy: 0.8857\n",
      "Epoch 34/50\n",
      "111616/300000 [==========>...................] - ETA: 1:53 - loss: 0.3609 - accuracy: 0.9013"
     ]
    },
    {
     "name": "stderr",
     "output_type": "stream",
     "text": [
      "ERROR:root:Internal Python error in the inspect module.\n",
      "Below is the traceback from this internal error.\n",
      "\n"
     ]
    },
    {
     "name": "stdout",
     "output_type": "stream",
     "text": [
      "Traceback (most recent call last):\n",
      "  File \"/home/hd16547/.local/lib/python3.7/site-packages/IPython/core/interactiveshell.py\", line 3331, in run_code\n",
      "    exec(code_obj, self.user_global_ns, self.user_ns)\n",
      "  File \"<ipython-input-10-1b1917297289>\", line 6, in <module>\n",
      "    verbose=1)\n",
      "  File \"/home/hd16547/.local/lib/python3.7/site-packages/keras/engine/training.py\", line 1239, in fit\n",
      "    validation_freq=validation_freq)\n",
      "  File \"/home/hd16547/.local/lib/python3.7/site-packages/keras/engine/training_arrays.py\", line 196, in fit_loop\n",
      "    outs = fit_function(ins_batch)\n",
      "  File \"/home/hd16547/.local/lib/python3.7/site-packages/tensorflow/python/keras/backend.py\", line 3292, in __call__\n",
      "    run_metadata=self.run_metadata)\n",
      "  File \"/home/hd16547/.local/lib/python3.7/site-packages/tensorflow/python/client/session.py\", line 1458, in __call__\n",
      "    run_metadata_ptr)\n",
      "KeyboardInterrupt\n",
      "\n",
      "During handling of the above exception, another exception occurred:\n",
      "\n",
      "Traceback (most recent call last):\n",
      "  File \"/home/hd16547/.local/lib/python3.7/site-packages/IPython/core/interactiveshell.py\", line 2044, in showtraceback\n",
      "    stb = value._render_traceback_()\n",
      "AttributeError: 'KeyboardInterrupt' object has no attribute '_render_traceback_'\n",
      "\n",
      "During handling of the above exception, another exception occurred:\n",
      "\n",
      "Traceback (most recent call last):\n",
      "  File \"/home/hd16547/.local/lib/python3.7/site-packages/IPython/core/ultratb.py\", line 1151, in get_records\n",
      "    return _fixed_getinnerframes(etb, number_of_lines_of_context, tb_offset)\n",
      "  File \"/home/hd16547/.local/lib/python3.7/site-packages/IPython/core/ultratb.py\", line 319, in wrapped\n",
      "    return f(*args, **kwargs)\n",
      "  File \"/home/hd16547/.local/lib/python3.7/site-packages/IPython/core/ultratb.py\", line 353, in _fixed_getinnerframes\n",
      "    records = fix_frame_records_filenames(inspect.getinnerframes(etb, context))\n",
      "  File \"/usr/lib/python3.7/inspect.py\", line 1502, in getinnerframes\n",
      "    frameinfo = (tb.tb_frame,) + getframeinfo(tb, context)\n",
      "  File \"/usr/lib/python3.7/inspect.py\", line 1460, in getframeinfo\n",
      "    filename = getsourcefile(frame) or getfile(frame)\n",
      "  File \"/usr/lib/python3.7/inspect.py\", line 696, in getsourcefile\n",
      "    if getattr(getmodule(object, filename), '__loader__', None) is not None:\n",
      "  File \"/usr/lib/python3.7/inspect.py\", line 742, in getmodule\n",
      "    os.path.realpath(f)] = module.__name__\n",
      "  File \"/usr/lib/python3.7/posixpath.py\", line 395, in realpath\n",
      "    path, ok = _joinrealpath(filename[:0], filename, {})\n",
      "  File \"/usr/lib/python3.7/posixpath.py\", line 429, in _joinrealpath\n",
      "    if not islink(newpath):\n",
      "  File \"/usr/lib/python3.7/posixpath.py\", line 171, in islink\n",
      "    st = os.lstat(path)\n",
      "KeyboardInterrupt\n"
     ]
    },
    {
     "ename": "KeyboardInterrupt",
     "evalue": "",
     "output_type": "error",
     "traceback": [
      "\u001b[0;31m---------------------------------------------------------------------------\u001b[0m"
     ]
    }
   ],
   "source": [
    "model.fit(X_train, y_train,\n",
    "          epochs=50,\n",
    "          batch_size=512,\n",
    "          validation_data=(X_valid, y_valid),\n",
    "          callbacks=callbacks,\n",
    "          verbose=1)"
   ]
  },
  {
   "cell_type": "code",
   "execution_count": 9,
   "metadata": {},
   "outputs": [
    {
     "name": "stdout",
     "output_type": "stream",
     "text": [
      "WARNING:tensorflow:From /home/hd16547/.local/lib/python3.7/site-packages/keras/backend/tensorflow_backend.py:4070: The name tf.nn.max_pool is deprecated. Please use tf.nn.max_pool2d instead.\n",
      "\n",
      "Model: \"sequential_1\"\n",
      "_________________________________________________________________\n",
      "Layer (type)                 Output Shape              Param #   \n",
      "=================================================================\n",
      "conv2d_1 (Conv2D)            (None, 26, 26, 64)        640       \n",
      "_________________________________________________________________\n",
      "max_pooling2d_1 (MaxPooling2 (None, 13, 13, 64)        0         \n",
      "_________________________________________________________________\n",
      "flatten_1 (Flatten)          (None, 10816)             0         \n",
      "_________________________________________________________________\n",
      "dense_1 (Dense)              (None, 10)                108170    \n",
      "=================================================================\n",
      "Total params: 108,810\n",
      "Trainable params: 108,810\n",
      "Non-trainable params: 0\n",
      "_________________________________________________________________\n"
     ]
    }
   ],
   "source": [
    "model = Sequential()\n",
    "\n",
    "model.add(Conv2D(64, (3, 3), activation='relu', input_shape=(28, 28, 1)))\n",
    "model.add(MaxPooling2D(pool_size=(2, 2)))\n",
    "model.add(Flatten())\n",
    "model.add(Dense(10, activation='softmax'))\n",
    "model.compile(loss='categorical_crossentropy',\n",
    "              optimizer='sgd',\n",
    "              metrics=['accuracy'])\n",
    "\n",
    "model.summary()"
   ]
  },
  {
   "cell_type": "code",
   "execution_count": 10,
   "metadata": {},
   "outputs": [
    {
     "name": "stdout",
     "output_type": "stream",
     "text": [
      "WARNING:tensorflow:From /home/hd16547/.local/lib/python3.7/site-packages/keras/backend/tensorflow_backend.py:422: The name tf.global_variables is deprecated. Please use tf.compat.v1.global_variables instead.\n",
      "\n",
      "Train on 300000 samples, validate on 93124 samples\n",
      "Epoch 1/10\n",
      "300000/300000 [==============================] - 44s 148us/step - loss: 0.9749 - accuracy: 0.7587 - val_loss: 0.7578 - val_accuracy: 0.7998\n",
      "Epoch 2/10\n",
      "300000/300000 [==============================] - 44s 147us/step - loss: 0.6953 - accuracy: 0.8188 - val_loss: 0.7231 - val_accuracy: 0.8082\n",
      "Epoch 3/10\n",
      "300000/300000 [==============================] - 47s 155us/step - loss: 0.6707 - accuracy: 0.8239 - val_loss: 0.7035 - val_accuracy: 0.8119\n",
      "Epoch 4/10\n",
      "300000/300000 [==============================] - 48s 160us/step - loss: 0.6546 - accuracy: 0.8274 - val_loss: 0.6898 - val_accuracy: 0.8141\n",
      "Epoch 5/10\n",
      "300000/300000 [==============================] - 46s 155us/step - loss: 0.6411 - accuracy: 0.8302 - val_loss: 0.6774 - val_accuracy: 0.8177\n",
      "Epoch 6/10\n",
      "300000/300000 [==============================] - 44s 147us/step - loss: 0.6278 - accuracy: 0.8331 - val_loss: 0.6649 - val_accuracy: 0.8212\n",
      "Epoch 7/10\n",
      "300000/300000 [==============================] - 44s 147us/step - loss: 0.6142 - accuracy: 0.8362 - val_loss: 0.6482 - val_accuracy: 0.8240\n",
      "Epoch 8/10\n",
      "300000/300000 [==============================] - 45s 148us/step - loss: 0.6001 - accuracy: 0.8393 - val_loss: 0.6335 - val_accuracy: 0.8279\n",
      "Epoch 9/10\n",
      "300000/300000 [==============================] - 48s 161us/step - loss: 0.5862 - accuracy: 0.8429 - val_loss: 0.6200 - val_accuracy: 0.8327\n",
      "Epoch 10/10\n",
      "300000/300000 [==============================] - 48s 160us/step - loss: 0.5730 - accuracy: 0.8459 - val_loss: 0.6079 - val_accuracy: 0.8342\n"
     ]
    },
    {
     "data": {
      "text/plain": [
       "<keras.callbacks.callbacks.History at 0x7fe08f472a90>"
      ]
     },
     "execution_count": 10,
     "metadata": {},
     "output_type": "execute_result"
    }
   ],
   "source": [
    "model.fit(X_train, y_train,\n",
    "          epochs=10,\n",
    "          batch_size=512,\n",
    "          validation_data=(X_valid, y_valid),\n",
    "          verbose=1)"
   ]
  },
  {
   "cell_type": "code",
   "execution_count": 4,
   "metadata": {},
   "outputs": [
    {
     "name": "stdout",
     "output_type": "stream",
     "text": [
      "Model: \"sequential_2\"\n",
      "_________________________________________________________________\n",
      "Layer (type)                 Output Shape              Param #   \n",
      "=================================================================\n",
      "conv2d_2 (Conv2D)            (None, 28, 28, 32)        832       \n",
      "_________________________________________________________________\n",
      "max_pooling2d_2 (MaxPooling2 (None, 14, 14, 32)        0         \n",
      "_________________________________________________________________\n",
      "conv2d_3 (Conv2D)            (None, 10, 10, 48)        38448     \n",
      "_________________________________________________________________\n",
      "max_pooling2d_3 (MaxPooling2 (None, 5, 5, 48)          0         \n",
      "_________________________________________________________________\n",
      "flatten_2 (Flatten)          (None, 1200)              0         \n",
      "_________________________________________________________________\n",
      "dense_2 (Dense)              (None, 256)               307456    \n",
      "_________________________________________________________________\n",
      "dense_3 (Dense)              (None, 84)                21588     \n",
      "_________________________________________________________________\n",
      "dense_4 (Dense)              (None, 10)                850       \n",
      "=================================================================\n",
      "Total params: 369,174\n",
      "Trainable params: 369,174\n",
      "Non-trainable params: 0\n",
      "_________________________________________________________________\n"
     ]
    }
   ],
   "source": [
    "model = Sequential()\n",
    "model.add(Conv2D(filters=32, kernel_size=(5,5), padding='same', activation='relu', input_shape=(28, 28, 1)))\n",
    "model.add(MaxPool2D(strides=2))\n",
    "model.add(Conv2D(filters=48, kernel_size=(5,5), padding='valid', activation='relu'))\n",
    "model.add(MaxPool2D(strides=2))\n",
    "model.add(Flatten())\n",
    "model.add(Dense(256, activation='relu'))\n",
    "model.add(Dense(84, activation='relu'))\n",
    "model.add(Dense(10, activation='softmax'))\n",
    "\n",
    "model.summary()"
   ]
  },
  {
   "cell_type": "code",
   "execution_count": 9,
   "metadata": {},
   "outputs": [],
   "source": [
    "adam = Adam(lr=1e-4)\n",
    "model.compile(loss='categorical_crossentropy', metrics=['accuracy'], optimizer=adam)"
   ]
  },
  {
   "cell_type": "code",
   "execution_count": 10,
   "metadata": {},
   "outputs": [],
   "source": [
    "datagen = ImageDataGenerator(\n",
    "            rotation_range=10, \n",
    "            width_shift_range=0.1, \n",
    "            height_shift_range=0.1, \n",
    "            zoom_range=0.1)\n",
    "datagen.fit(X_train)"
   ]
  },
  {
   "cell_type": "code",
   "execution_count": 11,
   "metadata": {},
   "outputs": [],
   "source": [
    "reduce_lr = ReduceLROnPlateau(monitor='val_accuracy', \n",
    "                                patience=3, \n",
    "                                verbose=1, \n",
    "                                factor=0.2, \n",
    "                                min_lr=1e-6)"
   ]
  },
  {
   "cell_type": "code",
   "execution_count": 13,
   "metadata": {},
   "outputs": [
    {
     "name": "stdout",
     "output_type": "stream",
     "text": [
      "Epoch 1/10\n",
      "586/586 [==============================] - 64s 109ms/step - loss: 0.3809 - accuracy: 0.8857 - val_loss: 0.3508 - val_accuracy: 0.8955\n",
      "Epoch 2/10\n",
      "586/586 [==============================] - 63s 108ms/step - loss: 0.3746 - accuracy: 0.8879 - val_loss: 0.3446 - val_accuracy: 0.8971\n",
      "Epoch 3/10\n",
      "586/586 [==============================] - 63s 108ms/step - loss: 0.3689 - accuracy: 0.8893 - val_loss: 0.3414 - val_accuracy: 0.8982\n",
      "Epoch 4/10\n",
      "586/586 [==============================] - 63s 108ms/step - loss: 0.3629 - accuracy: 0.8906 - val_loss: 0.3387 - val_accuracy: 0.8987\n",
      "Epoch 5/10\n",
      "586/586 [==============================] - 63s 108ms/step - loss: 0.3567 - accuracy: 0.8922 - val_loss: 0.3303 - val_accuracy: 0.9008\n",
      "Epoch 6/10\n",
      "586/586 [==============================] - 63s 108ms/step - loss: 0.3519 - accuracy: 0.8942 - val_loss: 0.3297 - val_accuracy: 0.9009\n",
      "Epoch 7/10\n",
      "586/586 [==============================] - 63s 108ms/step - loss: 0.3477 - accuracy: 0.8951 - val_loss: 0.3239 - val_accuracy: 0.9029\n",
      "Epoch 8/10\n",
      "586/586 [==============================] - 63s 108ms/step - loss: 0.3434 - accuracy: 0.8966 - val_loss: 0.3232 - val_accuracy: 0.9030\n",
      "Epoch 9/10\n",
      "586/586 [==============================] - 63s 108ms/step - loss: 0.3400 - accuracy: 0.8974 - val_loss: 0.3254 - val_accuracy: 0.9026\n",
      "Epoch 10/10\n",
      "586/586 [==============================] - 63s 108ms/step - loss: 0.3368 - accuracy: 0.8982 - val_loss: 0.3169 - val_accuracy: 0.9054\n"
     ]
    },
    {
     "data": {
      "text/plain": [
       "<keras.callbacks.callbacks.History at 0x7fc6e83bc910>"
      ]
     },
     "execution_count": 13,
     "metadata": {},
     "output_type": "execute_result"
    }
   ],
   "source": [
    "model.fit(datagen.flow(X_train, y_train, batch_size=512),\n",
    "          epochs=10,\n",
    "          validation_data=(X_valid, y_valid),\n",
    "          callbacks=[reduce_lr],\n",
    "          verbose=1)"
   ]
  },
  {
   "cell_type": "code",
   "execution_count": null,
   "metadata": {},
   "outputs": [],
   "source": []
  }
 ],
 "metadata": {
  "kernelspec": {
   "display_name": "Python 3",
   "language": "python",
   "name": "python3"
  },
  "language_info": {
   "codemirror_mode": {
    "name": "ipython",
    "version": 3
   },
   "file_extension": ".py",
   "mimetype": "text/x-python",
   "name": "python",
   "nbconvert_exporter": "python",
   "pygments_lexer": "ipython3",
   "version": "3.7.5"
  }
 },
 "nbformat": 4,
 "nbformat_minor": 4
}
