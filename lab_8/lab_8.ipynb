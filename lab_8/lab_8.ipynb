{
 "cells": [
  {
   "cell_type": "code",
   "execution_count": 3,
   "metadata": {},
   "outputs": [],
   "source": [
    "import pandas as pd\n",
    "import matplotlib.pyplot as plt"
   ]
  },
  {
   "cell_type": "code",
   "execution_count": 4,
   "metadata": {},
   "outputs": [
    {
     "data": {
      "text/html": [
       "<div>\n",
       "<style scoped>\n",
       "    .dataframe tbody tr th:only-of-type {\n",
       "        vertical-align: middle;\n",
       "    }\n",
       "\n",
       "    .dataframe tbody tr th {\n",
       "        vertical-align: top;\n",
       "    }\n",
       "\n",
       "    .dataframe thead th {\n",
       "        text-align: right;\n",
       "    }\n",
       "</style>\n",
       "<table border=\"1\" class=\"dataframe\">\n",
       "  <thead>\n",
       "    <tr style=\"text-align: right;\">\n",
       "      <th></th>\n",
       "      <th>Unnamed: 0</th>\n",
       "      <th>Date</th>\n",
       "      <th>Monthly Mean Total Sunspot Number</th>\n",
       "    </tr>\n",
       "  </thead>\n",
       "  <tbody>\n",
       "    <tr>\n",
       "      <th>0</th>\n",
       "      <td>0</td>\n",
       "      <td>1749-01-31</td>\n",
       "      <td>96.7</td>\n",
       "    </tr>\n",
       "    <tr>\n",
       "      <th>1</th>\n",
       "      <td>1</td>\n",
       "      <td>1749-02-28</td>\n",
       "      <td>104.3</td>\n",
       "    </tr>\n",
       "    <tr>\n",
       "      <th>2</th>\n",
       "      <td>2</td>\n",
       "      <td>1749-03-31</td>\n",
       "      <td>116.7</td>\n",
       "    </tr>\n",
       "    <tr>\n",
       "      <th>3</th>\n",
       "      <td>3</td>\n",
       "      <td>1749-04-30</td>\n",
       "      <td>92.8</td>\n",
       "    </tr>\n",
       "    <tr>\n",
       "      <th>4</th>\n",
       "      <td>4</td>\n",
       "      <td>1749-05-31</td>\n",
       "      <td>141.7</td>\n",
       "    </tr>\n",
       "  </tbody>\n",
       "</table>\n",
       "</div>"
      ],
      "text/plain": [
       "   Unnamed: 0        Date  Monthly Mean Total Sunspot Number\n",
       "0           0  1749-01-31                               96.7\n",
       "1           1  1749-02-28                              104.3\n",
       "2           2  1749-03-31                              116.7\n",
       "3           3  1749-04-30                               92.8\n",
       "4           4  1749-05-31                              141.7"
      ]
     },
     "execution_count": 4,
     "metadata": {},
     "output_type": "execute_result"
    }
   ],
   "source": [
    "data = pd.read_csv('../data/lab_8/Sunspots.csv')\n",
    "data.head()"
   ]
  },
  {
   "cell_type": "code",
   "execution_count": 5,
   "metadata": {},
   "outputs": [],
   "source": [
    "frame = pd.DataFrame({\n",
    "    'value': data['Monthly Mean Total Sunspot Number'].to_numpy()\n",
    "}, index=pd.DatetimeIndex(data['Date']))"
   ]
  },
  {
   "cell_type": "code",
   "execution_count": 6,
   "metadata": {},
   "outputs": [
    {
     "data": {
      "text/html": [
       "<div>\n",
       "<style scoped>\n",
       "    .dataframe tbody tr th:only-of-type {\n",
       "        vertical-align: middle;\n",
       "    }\n",
       "\n",
       "    .dataframe tbody tr th {\n",
       "        vertical-align: top;\n",
       "    }\n",
       "\n",
       "    .dataframe thead th {\n",
       "        text-align: right;\n",
       "    }\n",
       "</style>\n",
       "<table border=\"1\" class=\"dataframe\">\n",
       "  <thead>\n",
       "    <tr style=\"text-align: right;\">\n",
       "      <th></th>\n",
       "      <th>value</th>\n",
       "    </tr>\n",
       "    <tr>\n",
       "      <th>Date</th>\n",
       "      <th></th>\n",
       "    </tr>\n",
       "  </thead>\n",
       "  <tbody>\n",
       "    <tr>\n",
       "      <th>1749-01-31</th>\n",
       "      <td>96.7</td>\n",
       "    </tr>\n",
       "    <tr>\n",
       "      <th>1749-02-28</th>\n",
       "      <td>104.3</td>\n",
       "    </tr>\n",
       "    <tr>\n",
       "      <th>1749-03-31</th>\n",
       "      <td>116.7</td>\n",
       "    </tr>\n",
       "    <tr>\n",
       "      <th>1749-04-30</th>\n",
       "      <td>92.8</td>\n",
       "    </tr>\n",
       "    <tr>\n",
       "      <th>1749-05-31</th>\n",
       "      <td>141.7</td>\n",
       "    </tr>\n",
       "  </tbody>\n",
       "</table>\n",
       "</div>"
      ],
      "text/plain": [
       "            value\n",
       "Date             \n",
       "1749-01-31   96.7\n",
       "1749-02-28  104.3\n",
       "1749-03-31  116.7\n",
       "1749-04-30   92.8\n",
       "1749-05-31  141.7"
      ]
     },
     "execution_count": 6,
     "metadata": {},
     "output_type": "execute_result"
    }
   ],
   "source": [
    "frame.head()"
   ]
  },
  {
   "cell_type": "code",
   "execution_count": 7,
   "metadata": {},
   "outputs": [
    {
     "data": {
      "text/html": [
       "<div>\n",
       "<style scoped>\n",
       "    .dataframe tbody tr th:only-of-type {\n",
       "        vertical-align: middle;\n",
       "    }\n",
       "\n",
       "    .dataframe tbody tr th {\n",
       "        vertical-align: top;\n",
       "    }\n",
       "\n",
       "    .dataframe thead th {\n",
       "        text-align: right;\n",
       "    }\n",
       "</style>\n",
       "<table border=\"1\" class=\"dataframe\">\n",
       "  <thead>\n",
       "    <tr style=\"text-align: right;\">\n",
       "      <th></th>\n",
       "      <th>Unnamed: 0</th>\n",
       "      <th>Date</th>\n",
       "      <th>Monthly Mean Total Sunspot Number</th>\n",
       "    </tr>\n",
       "  </thead>\n",
       "  <tbody>\n",
       "    <tr>\n",
       "      <th>0</th>\n",
       "      <td>0</td>\n",
       "      <td>1749-01-31</td>\n",
       "      <td>96.7</td>\n",
       "    </tr>\n",
       "    <tr>\n",
       "      <th>1</th>\n",
       "      <td>1</td>\n",
       "      <td>1749-02-28</td>\n",
       "      <td>104.3</td>\n",
       "    </tr>\n",
       "    <tr>\n",
       "      <th>2</th>\n",
       "      <td>2</td>\n",
       "      <td>1749-03-31</td>\n",
       "      <td>116.7</td>\n",
       "    </tr>\n",
       "    <tr>\n",
       "      <th>3</th>\n",
       "      <td>3</td>\n",
       "      <td>1749-04-30</td>\n",
       "      <td>92.8</td>\n",
       "    </tr>\n",
       "    <tr>\n",
       "      <th>4</th>\n",
       "      <td>4</td>\n",
       "      <td>1749-05-31</td>\n",
       "      <td>141.7</td>\n",
       "    </tr>\n",
       "  </tbody>\n",
       "</table>\n",
       "</div>"
      ],
      "text/plain": [
       "   Unnamed: 0        Date  Monthly Mean Total Sunspot Number\n",
       "0           0  1749-01-31                               96.7\n",
       "1           1  1749-02-28                              104.3\n",
       "2           2  1749-03-31                              116.7\n",
       "3           3  1749-04-30                               92.8\n",
       "4           4  1749-05-31                              141.7"
      ]
     },
     "execution_count": 7,
     "metadata": {},
     "output_type": "execute_result"
    }
   ],
   "source": [
    "data.head()"
   ]
  },
  {
   "cell_type": "code",
   "execution_count": 8,
   "metadata": {},
   "outputs": [
    {
     "data": {
      "text/html": [
       "<div>\n",
       "<style scoped>\n",
       "    .dataframe tbody tr th:only-of-type {\n",
       "        vertical-align: middle;\n",
       "    }\n",
       "\n",
       "    .dataframe tbody tr th {\n",
       "        vertical-align: top;\n",
       "    }\n",
       "\n",
       "    .dataframe thead th {\n",
       "        text-align: right;\n",
       "    }\n",
       "</style>\n",
       "<table border=\"1\" class=\"dataframe\">\n",
       "  <thead>\n",
       "    <tr style=\"text-align: right;\">\n",
       "      <th></th>\n",
       "      <th>value</th>\n",
       "    </tr>\n",
       "    <tr>\n",
       "      <th>Date</th>\n",
       "      <th></th>\n",
       "    </tr>\n",
       "  </thead>\n",
       "  <tbody>\n",
       "    <tr>\n",
       "      <th>1749-01-31</th>\n",
       "      <td>96.7</td>\n",
       "    </tr>\n",
       "    <tr>\n",
       "      <th>1749-02-28</th>\n",
       "      <td>104.3</td>\n",
       "    </tr>\n",
       "    <tr>\n",
       "      <th>1749-03-31</th>\n",
       "      <td>116.7</td>\n",
       "    </tr>\n",
       "    <tr>\n",
       "      <th>1749-04-30</th>\n",
       "      <td>92.8</td>\n",
       "    </tr>\n",
       "    <tr>\n",
       "      <th>1749-05-31</th>\n",
       "      <td>141.7</td>\n",
       "    </tr>\n",
       "  </tbody>\n",
       "</table>\n",
       "</div>"
      ],
      "text/plain": [
       "            value\n",
       "Date             \n",
       "1749-01-31   96.7\n",
       "1749-02-28  104.3\n",
       "1749-03-31  116.7\n",
       "1749-04-30   92.8\n",
       "1749-05-31  141.7"
      ]
     },
     "execution_count": 8,
     "metadata": {},
     "output_type": "execute_result"
    }
   ],
   "source": [
    "frame.head()"
   ]
  },
  {
   "cell_type": "code",
   "execution_count": 9,
   "metadata": {},
   "outputs": [],
   "source": [
    "series = data['Monthly Mean Total Sunspot Number'].to_numpy()"
   ]
  },
  {
   "cell_type": "code",
   "execution_count": 10,
   "metadata": {},
   "outputs": [],
   "source": [
    "time = data['Unnamed: 0'].to_numpy()"
   ]
  },
  {
   "cell_type": "code",
   "execution_count": 11,
   "metadata": {},
   "outputs": [
    {
     "data": {
      "image/png": "[encoded data removed]",
      "text/plain": [
       "<Figure size 720x432 with 1 Axes>"
      ]
     },
     "metadata": {
      "needs_background": "light"
     },
     "output_type": "display_data"
    }
   ],
   "source": [
    "start = 0\n",
    "end = None\n",
    "plt.figure(figsize=(10, 6))\n",
    "plt.plot(time[start:end], series[start:end], '-')\n",
    "plt.xlabel(\"Time\")\n",
    "plt.ylabel(\"Value\")\n",
    "plt.grid(True)"
   ]
  },
  {
   "cell_type": "code",
   "execution_count": 12,
   "metadata": {},
   "outputs": [
    {
     "data": {
      "text/html": [
       "<div>\n",
       "<style scoped>\n",
       "    .dataframe tbody tr th:only-of-type {\n",
       "        vertical-align: middle;\n",
       "    }\n",
       "\n",
       "    .dataframe tbody tr th {\n",
       "        vertical-align: top;\n",
       "    }\n",
       "\n",
       "    .dataframe thead th {\n",
       "        text-align: right;\n",
       "    }\n",
       "</style>\n",
       "<table border=\"1\" class=\"dataframe\">\n",
       "  <thead>\n",
       "    <tr style=\"text-align: right;\">\n",
       "      <th></th>\n",
       "      <th>value</th>\n",
       "    </tr>\n",
       "    <tr>\n",
       "      <th>Date</th>\n",
       "      <th></th>\n",
       "    </tr>\n",
       "  </thead>\n",
       "  <tbody>\n",
       "    <tr>\n",
       "      <th>1749-01-31</th>\n",
       "      <td>96.7</td>\n",
       "    </tr>\n",
       "    <tr>\n",
       "      <th>1749-02-28</th>\n",
       "      <td>104.3</td>\n",
       "    </tr>\n",
       "    <tr>\n",
       "      <th>1749-03-31</th>\n",
       "      <td>116.7</td>\n",
       "    </tr>\n",
       "    <tr>\n",
       "      <th>1749-04-30</th>\n",
       "      <td>92.8</td>\n",
       "    </tr>\n",
       "    <tr>\n",
       "      <th>1749-05-31</th>\n",
       "      <td>141.7</td>\n",
       "    </tr>\n",
       "  </tbody>\n",
       "</table>\n",
       "</div>"
      ],
      "text/plain": [
       "            value\n",
       "Date             \n",
       "1749-01-31   96.7\n",
       "1749-02-28  104.3\n",
       "1749-03-31  116.7\n",
       "1749-04-30   92.8\n",
       "1749-05-31  141.7"
      ]
     },
     "execution_count": 12,
     "metadata": {},
     "output_type": "execute_result"
    }
   ],
   "source": [
    "frame.head()"
   ]
  },
  {
   "cell_type": "code",
   "execution_count": 13,
   "metadata": {},
   "outputs": [],
   "source": [
    "from statsmodels.tsa.seasonal import seasonal_decompose"
   ]
  },
  {
   "cell_type": "code",
   "execution_count": 14,
   "metadata": {},
   "outputs": [
    {
     "data": {
      "image/png": "[encoded data removed]",
      "text/plain": [
       "<Figure size 432x288 with 4 Axes>"
      ]
     },
     "metadata": {
      "needs_background": "light"
     },
     "output_type": "display_data"
    }
   ],
   "source": [
    "result_add = seasonal_decompose(frame['value'], model='additive', extrapolate_trend='freq')\n",
    "result_add.plot()\n",
    "plt.show()"
   ]
  },
  {
   "cell_type": "code",
   "execution_count": 15,
   "metadata": {},
   "outputs": [],
   "source": [
    "from pandas.plotting import autocorrelation_plot"
   ]
  },
  {
   "cell_type": "code",
   "execution_count": 16,
   "metadata": {},
   "outputs": [
    {
     "data": {
      "text/plain": [
       "<matplotlib.axes._subplots.AxesSubplot at 0x7f1485d69050>"
      ]
     },
     "execution_count": 16,
     "metadata": {},
     "output_type": "execute_result"
    },
    {
     "data": {
      "image/png": "[encoded data removed]",
      "text/plain": [
       "<Figure size 432x288 with 1 Axes>"
      ]
     },
     "metadata": {
      "needs_background": "light"
     },
     "output_type": "display_data"
    }
   ],
   "source": [
    "autocorrelation_plot(frame.value.tolist())"
   ]
  },
  {
   "cell_type": "code",
   "execution_count": 17,
   "metadata": {},
   "outputs": [],
   "source": [
    "split_time = 2500\n",
    "time_train = time[:split_time]\n",
    "x_train = series[:split_time]\n",
    "time_valid = time[split_time:]\n",
    "x_valid = series[split_time:]"
   ]
  },
  {
   "cell_type": "code",
   "execution_count": 21,
   "metadata": {},
   "outputs": [
    {
     "data": {
      "text/plain": [
       "(2500,)"
      ]
     },
     "execution_count": 21,
     "metadata": {},
     "output_type": "execute_result"
    }
   ],
   "source": [
    "x_train.shape"
   ]
  },
  {
   "cell_type": "code",
   "execution_count": 22,
   "metadata": {},
   "outputs": [
    {
     "data": {
      "text/plain": [
       "(752,)"
      ]
     },
     "execution_count": 22,
     "metadata": {},
     "output_type": "execute_result"
    }
   ],
   "source": [
    "x_valid.shape"
   ]
  },
  {
   "cell_type": "code",
   "execution_count": 23,
   "metadata": {},
   "outputs": [],
   "source": [
    "from statsmodels.tsa.arima_model import ARIMA"
   ]
  },
  {
   "cell_type": "code",
   "execution_count": 24,
   "metadata": {},
   "outputs": [],
   "source": [
    "model = ARIMA(series, order=(5,1,0))"
   ]
  },
  {
   "cell_type": "code",
   "execution_count": 25,
   "metadata": {},
   "outputs": [],
   "source": [
    "model_fit = model.fit(disp=0)"
   ]
  },
  {
   "cell_type": "code",
   "execution_count": 26,
   "metadata": {},
   "outputs": [
    {
     "name": "stdout",
     "output_type": "stream",
     "text": [
      "                             ARIMA Model Results                              \n",
      "==============================================================================\n",
      "Dep. Variable:                    D.y   No. Observations:                 3251\n",
      "Model:                 ARIMA(5, 1, 0)   Log Likelihood              -15102.868\n",
      "Method:                       css-mle   S.D. of innovations             25.194\n",
      "Date:                Tue, 14 Apr 2020   AIC                          30219.737\n",
      "Time:                        21:20:42   BIC                          30262.344\n",
      "Sample:                             1   HQIC                         30235.000\n",
      "                                                                              \n",
      "==============================================================================\n",
      "                 coef    std err          z      P>|z|      [0.025      0.975]\n",
      "------------------------------------------------------------------------------\n",
      "const         -0.0317      0.213     -0.149      0.882      -0.449       0.386\n",
      "ar.L1.D.y     -0.4152      0.018    -23.719      0.000      -0.450      -0.381\n",
      "ar.L2.D.y     -0.2979      0.019    -15.777      0.000      -0.335      -0.261\n",
      "ar.L3.D.y     -0.2011      0.019    -10.439      0.000      -0.239      -0.163\n",
      "ar.L4.D.y     -0.0987      0.019     -5.229      0.000      -0.136      -0.062\n",
      "ar.L5.D.y     -0.0613      0.018     -3.503      0.000      -0.096      -0.027\n",
      "                                    Roots                                    \n",
      "=============================================================================\n",
      "                  Real          Imaginary           Modulus         Frequency\n",
      "-----------------------------------------------------------------------------\n",
      "AR.1            0.8392           -1.4349j            1.6623           -0.1658\n",
      "AR.2            0.8392           +1.4349j            1.6623            0.1658\n",
      "AR.3           -1.7636           -0.0000j            1.7636           -0.5000\n",
      "AR.4           -0.7624           -1.6629j            1.8294           -0.3184\n",
      "AR.5           -0.7624           +1.6629j            1.8294            0.3184\n",
      "-----------------------------------------------------------------------------\n"
     ]
    }
   ],
   "source": [
    "print(model_fit.summary())"
   ]
  },
  {
   "cell_type": "code",
   "execution_count": 29,
   "metadata": {},
   "outputs": [
    {
     "data": {
      "image/png": "[encoded data removed]",
      "text/plain": [
       "<Figure size 432x288 with 1 Axes>"
      ]
     },
     "metadata": {
      "needs_background": "light"
     },
     "output_type": "display_data"
    },
    {
     "data": {
      "image/png": "[encoded data removed]",
      "text/plain": [
       "<Figure size 432x288 with 1 Axes>"
      ]
     },
     "metadata": {
      "needs_background": "light"
     },
     "output_type": "display_data"
    },
    {
     "name": "stdout",
     "output_type": "stream",
     "text": [
      "                 0\n",
      "count  3251.000000\n",
      "mean      0.003868\n",
      "std      25.198623\n",
      "min    -119.111207\n",
      "25%     -13.116087\n",
      "50%      -0.897181\n",
      "75%      12.472338\n",
      "max     158.110167\n"
     ]
    }
   ],
   "source": [
    "residuals = pd.DataFrame(model_fit.resid)\n",
    "residuals.plot()\n",
    "plt.show()\n",
    "residuals.plot(kind='kde')\n",
    "plt.show()\n",
    "print(residuals.describe())"
   ]
  },
  {
   "cell_type": "code",
   "execution_count": 18,
   "metadata": {},
   "outputs": [
    {
     "name": "stdout",
     "output_type": "stream",
     "text": [
      "<DatasetV1Adapter shapes: ((?, ?, 1), (?, ?, 1)), types: (tf.float64, tf.float64)>\n",
      "(2500,)\n",
      "WARNING:tensorflow:From /home/hd16547/.local/lib/python3.7/site-packages/tensorflow/python/ops/init_ops.py:1251: calling VarianceScaling.__init__ (from tensorflow.python.ops.init_ops) with dtype is deprecated and will be removed in a future version.\n",
      "Instructions for updating:\n",
      "Call initializer instance with the dtype argument instead of passing it to the constructor\n",
      "Model: \"sequential\"\n",
      "_________________________________________________________________\n",
      "Layer (type)                 Output Shape              Param #   \n",
      "=================================================================\n",
      "conv1d (Conv1D)              (None, None, 32)          192       \n",
      "_________________________________________________________________\n",
      "lstm (LSTM)                  (None, None, 64)          24832     \n",
      "_________________________________________________________________\n",
      "lstm_1 (LSTM)                (None, None, 64)          33024     \n",
      "_________________________________________________________________\n",
      "dense (Dense)                (None, None, 30)          1950      \n",
      "_________________________________________________________________\n",
      "dense_1 (Dense)              (None, None, 10)          310       \n",
      "_________________________________________________________________\n",
      "dense_2 (Dense)              (None, None, 1)           11        \n",
      "_________________________________________________________________\n",
      "lambda (Lambda)              (None, None, 1)           0         \n",
      "=================================================================\n",
      "Total params: 60,319\n",
      "Trainable params: 60,319\n",
      "Non-trainable params: 0\n",
      "_________________________________________________________________\n"
     ]
    }
   ],
   "source": [
    "import tensorflow as tf\n",
    "\n",
    "window_size = 30\n",
    "batch_size = 32\n",
    "shuffle_buffer_size = 1000\n",
    "\n",
    "\n",
    "def windowed_dataset(series, window_size, batch_size, shuffle_buffer):\n",
    "    series = tf.expand_dims(series, axis=-1)\n",
    "    ds = tf.data.Dataset.from_tensor_slices(series)\n",
    "    ds = ds.window(window_size + 1, shift=1, drop_remainder=True)\n",
    "    ds = ds.flat_map(lambda w: w.batch(window_size + 1))\n",
    "    ds = ds.shuffle(shuffle_buffer)\n",
    "    ds = ds.map(lambda w: (w[:-1], w[1:]))\n",
    "    return ds.batch(batch_size).prefetch(1)\n",
    "\n",
    "def model_forecast(model, series, window_size):\n",
    "    ds = tf.data.Dataset.from_tensor_slices(series)\n",
    "    ds = ds.window(window_size, shift=1, drop_remainder=True)\n",
    "    ds = ds.flat_map(lambda w: w.batch(window_size))\n",
    "    ds = ds.batch(32).prefetch(1)\n",
    "    forecast = model.predict(ds)\n",
    "    return forecast\n",
    "\n",
    "window_size = 64\n",
    "batch_size = 256\n",
    "train_set = windowed_dataset(x_train, window_size, batch_size, shuffle_buffer_size)\n",
    "print(train_set)\n",
    "print(x_train.shape)\n",
    "# 1d convolutional neural network\n",
    "# LSTM\n",
    "# DNN\n",
    "model = tf.keras.models.Sequential([\n",
    "         tf.keras.layers.Conv1D(filters=32, kernel_size=5,\n",
    "                      strides=1, padding=\"causal\",\n",
    "                      activation=\"relu\",\n",
    "                      input_shape=[None, 1]),\n",
    "         tf.keras.layers.LSTM(64, return_sequences=True),\n",
    "         tf.keras.layers.LSTM(64, return_sequences=True),\n",
    "         tf.keras.layers.Dense(30, activation=\"relu\"),\n",
    "         tf.keras.layers.Dense(10, activation=\"relu\"),\n",
    "         tf.keras.layers.Dense(1),\n",
    "         tf.keras.layers.Lambda(lambda x: x * 400)\n",
    "])\n",
    "\n",
    "model.summary()\n",
    "\n"
   ]
  },
  {
   "cell_type": "code",
   "execution_count": 19,
   "metadata": {},
   "outputs": [
    {
     "name": "stdout",
     "output_type": "stream",
     "text": [
      "WARNING:tensorflow:From /home/hd16547/.local/lib/python3.7/site-packages/tensorflow/python/ops/math_grad.py:1250: add_dispatch_support.<locals>.wrapper (from tensorflow.python.ops.array_ops) is deprecated and will be removed in a future version.\n",
      "Instructions for updating:\n",
      "Use tf.where in 2.0, which has the same broadcast rule as np.where\n",
      "Epoch 1/100\n",
      "10/10 [==============================] - 1s 119ms/step - loss: 328.1044 - mean_absolute_error: 328.5507\n",
      "Epoch 2/100\n",
      "10/10 [==============================] - 1s 65ms/step - loss: 323.5653 - mean_absolute_error: 323.9825\n",
      "Epoch 3/100\n",
      "10/10 [==============================] - 1s 80ms/step - loss: 315.9757 - mean_absolute_error: 317.0080\n",
      "Epoch 4/100\n",
      "10/10 [==============================] - 1s 111ms/step - loss: 308.0819 - mean_absolute_error: 308.5937\n",
      "Epoch 5/100\n",
      "10/10 [==============================] - 1s 70ms/step - loss: 298.3420 - mean_absolute_error: 299.3781\n",
      "Epoch 6/100\n",
      "10/10 [==============================] - 1s 68ms/step - loss: 289.5240 - mean_absolute_error: 289.7020\n",
      "Epoch 7/100\n",
      "10/10 [==============================] - 1s 81ms/step - loss: 279.0366 - mean_absolute_error: 279.8345\n",
      "Epoch 8/100\n",
      "10/10 [==============================] - 1s 85ms/step - loss: 269.0316 - mean_absolute_error: 269.9030\n",
      "Epoch 9/100\n",
      "10/10 [==============================] - 1s 112ms/step - loss: 258.9908 - mean_absolute_error: 259.9460\n",
      "Epoch 10/100\n",
      "10/10 [==============================] - 1s 78ms/step - loss: 249.3446 - mean_absolute_error: 249.8882\n",
      "Epoch 11/100\n",
      "10/10 [==============================] - 1s 69ms/step - loss: 238.8512 - mean_absolute_error: 239.5614\n",
      "Epoch 12/100\n",
      "10/10 [==============================] - 1s 76ms/step - loss: 227.8883 - mean_absolute_error: 228.6679\n",
      "Epoch 13/100\n",
      "10/10 [==============================] - 1s 82ms/step - loss: 215.9244 - mean_absolute_error: 216.9153\n",
      "Epoch 14/100\n",
      "10/10 [==============================] - 1s 72ms/step - loss: 203.1527 - mean_absolute_error: 203.9549\n",
      "Epoch 15/100\n",
      "10/10 [==============================] - 1s 72ms/step - loss: 187.1207 - mean_absolute_error: 188.1429\n",
      "Epoch 16/100\n",
      "10/10 [==============================] - 1s 90ms/step - loss: 170.5210 - mean_absolute_error: 171.1218\n",
      "Epoch 17/100\n",
      "10/10 [==============================] - 1s 94ms/step - loss: 152.5506 - mean_absolute_error: 153.3763\n",
      "Epoch 18/100\n",
      "10/10 [==============================] - 1s 90ms/step - loss: 134.3636 - mean_absolute_error: 135.1914\n",
      "Epoch 19/100\n",
      "10/10 [==============================] - 1s 127ms/step - loss: 118.8176 - mean_absolute_error: 119.7816\n",
      "Epoch 20/100\n",
      "10/10 [==============================] - 1s 135ms/step - loss: 101.2982 - mean_absolute_error: 102.1294\n",
      "Epoch 21/100\n",
      "10/10 [==============================] - 1s 106ms/step - loss: 77.9143 - mean_absolute_error: 78.7118\n",
      "Epoch 22/100\n",
      "10/10 [==============================] - 1s 69ms/step - loss: 56.6651 - mean_absolute_error: 57.4676\n",
      "Epoch 23/100\n",
      "10/10 [==============================] - 1s 75ms/step - loss: 44.3934 - mean_absolute_error: 44.9000\n",
      "Epoch 24/100\n",
      "10/10 [==============================] - 1s 84ms/step - loss: 39.4166 - mean_absolute_error: 39.8799\n",
      "Epoch 25/100\n",
      "10/10 [==============================] - 1s 81ms/step - loss: 37.7661 - mean_absolute_error: 38.3415\n",
      "Epoch 26/100\n",
      "10/10 [==============================] - 1s 82ms/step - loss: 37.0182 - mean_absolute_error: 37.4796\n",
      "Epoch 27/100\n",
      "10/10 [==============================] - 1s 87ms/step - loss: 36.1086 - mean_absolute_error: 36.6022\n",
      "Epoch 28/100\n",
      "10/10 [==============================] - 1s 93ms/step - loss: 35.1719 - mean_absolute_error: 35.6548\n",
      "Epoch 29/100\n",
      "10/10 [==============================] - 2s 202ms/step - loss: 34.1474 - mean_absolute_error: 34.6225\n",
      "Epoch 30/100\n",
      "10/10 [==============================] - 1s 116ms/step - loss: 32.8763 - mean_absolute_error: 33.4657\n",
      "Epoch 31/100\n",
      "10/10 [==============================] - 1s 67ms/step - loss: 31.5939 - mean_absolute_error: 32.1378\n",
      "Epoch 32/100\n",
      "10/10 [==============================] - 1s 70ms/step - loss: 30.1263 - mean_absolute_error: 30.7029\n",
      "Epoch 33/100\n",
      "10/10 [==============================] - 1s 88ms/step - loss: 28.9280 - mean_absolute_error: 29.4758\n",
      "Epoch 34/100\n",
      "10/10 [==============================] - 1s 108ms/step - loss: 28.1035 - mean_absolute_error: 28.5782\n",
      "Epoch 35/100\n",
      "10/10 [==============================] - 1s 78ms/step - loss: 27.3685 - mean_absolute_error: 27.8946\n",
      "Epoch 36/100\n",
      "10/10 [==============================] - 1s 80ms/step - loss: 26.8324 - mean_absolute_error: 27.3232\n",
      "Epoch 37/100\n",
      "10/10 [==============================] - 1s 79ms/step - loss: 26.3187 - mean_absolute_error: 26.8262\n",
      "Epoch 38/100\n",
      "10/10 [==============================] - 1s 83ms/step - loss: 25.8728 - mean_absolute_error: 26.3741\n",
      "Epoch 39/100\n",
      "10/10 [==============================] - 1s 84ms/step - loss: 25.4346 - mean_absolute_error: 25.9265\n",
      "Epoch 40/100\n",
      "10/10 [==============================] - 1s 137ms/step - loss: 24.8905 - mean_absolute_error: 25.4445\n",
      "Epoch 41/100\n",
      "10/10 [==============================] - 1s 86ms/step - loss: 24.4874 - mean_absolute_error: 24.9447\n",
      "Epoch 42/100\n",
      "10/10 [==============================] - 1s 78ms/step - loss: 24.0538 - mean_absolute_error: 24.4598\n",
      "Epoch 43/100\n",
      "10/10 [==============================] - 1s 79ms/step - loss: 23.4977 - mean_absolute_error: 23.9872\n",
      "Epoch 44/100\n",
      "10/10 [==============================] - 1s 83ms/step - loss: 23.0314 - mean_absolute_error: 23.5451\n",
      "Epoch 45/100\n",
      "10/10 [==============================] - 1s 92ms/step - loss: 22.7082 - mean_absolute_error: 23.1753\n",
      "Epoch 46/100\n",
      "10/10 [==============================] - 1s 113ms/step - loss: 22.3438 - mean_absolute_error: 22.8076\n",
      "Epoch 47/100\n",
      "10/10 [==============================] - 1s 136ms/step - loss: 22.0550 - mean_absolute_error: 22.5047\n",
      "Epoch 48/100\n",
      "10/10 [==============================] - 1s 137ms/step - loss: 21.6869 - mean_absolute_error: 22.2154\n",
      "Epoch 49/100\n",
      "10/10 [==============================] - 1s 82ms/step - loss: 21.4247 - mean_absolute_error: 21.9523\n",
      "Epoch 50/100\n",
      "10/10 [==============================] - 1s 69ms/step - loss: 21.1844 - mean_absolute_error: 21.7232\n",
      "Epoch 51/100\n",
      "10/10 [==============================] - 1s 78ms/step - loss: 20.9612 - mean_absolute_error: 21.4368\n",
      "Epoch 52/100\n",
      "10/10 [==============================] - 1s 82ms/step - loss: 20.6840 - mean_absolute_error: 21.1926\n",
      "Epoch 53/100\n",
      "10/10 [==============================] - 1s 85ms/step - loss: 20.5081 - mean_absolute_error: 20.9815\n",
      "Epoch 54/100\n",
      "10/10 [==============================] - 1s 95ms/step - loss: 20.2084 - mean_absolute_error: 20.7346\n",
      "Epoch 55/100\n",
      "10/10 [==============================] - 1s 99ms/step - loss: 20.0229 - mean_absolute_error: 20.5651\n",
      "Epoch 56/100\n",
      "10/10 [==============================] - 1s 98ms/step - loss: 19.9203 - mean_absolute_error: 20.3930\n",
      "Epoch 57/100\n",
      "10/10 [==============================] - 1s 93ms/step - loss: 19.7083 - mean_absolute_error: 20.2087\n",
      "Epoch 58/100\n",
      "10/10 [==============================] - 1s 108ms/step - loss: 19.4666 - mean_absolute_error: 19.9687\n",
      "Epoch 59/100\n",
      "10/10 [==============================] - 1s 77ms/step - loss: 19.1413 - mean_absolute_error: 19.6813\n",
      "Epoch 60/100\n",
      "10/10 [==============================] - 1s 74ms/step - loss: 19.0237 - mean_absolute_error: 19.5319\n",
      "Epoch 61/100\n",
      "10/10 [==============================] - 1s 74ms/step - loss: 18.9948 - mean_absolute_error: 19.5012\n",
      "Epoch 62/100\n",
      "10/10 [==============================] - 1s 71ms/step - loss: 18.7032 - mean_absolute_error: 19.2119\n",
      "Epoch 63/100\n",
      "10/10 [==============================] - 1s 77ms/step - loss: 18.9817 - mean_absolute_error: 19.4781\n",
      "Epoch 64/100\n",
      "10/10 [==============================] - 1s 74ms/step - loss: 19.3671 - mean_absolute_error: 19.8231\n",
      "Epoch 65/100\n",
      "10/10 [==============================] - 1s 79ms/step - loss: 20.6008 - mean_absolute_error: 21.1448\n",
      "Epoch 66/100\n",
      "10/10 [==============================] - 1s 94ms/step - loss: 20.8824 - mean_absolute_error: 21.4743\n",
      "Epoch 67/100\n",
      "10/10 [==============================] - 1s 109ms/step - loss: 19.0515 - mean_absolute_error: 19.4885\n",
      "Epoch 68/100\n",
      "10/10 [==============================] - 1s 94ms/step - loss: 19.0475 - mean_absolute_error: 19.4643\n",
      "Epoch 69/100\n"
     ]
    },
    {
     "name": "stdout",
     "output_type": "stream",
     "text": [
      "10/10 [==============================] - 1s 86ms/step - loss: 21.8351 - mean_absolute_error: 22.3764\n",
      "Epoch 70/100\n",
      "10/10 [==============================] - 1s 86ms/step - loss: 22.9432 - mean_absolute_error: 23.3970\n",
      "Epoch 71/100\n",
      "10/10 [==============================] - 1s 69ms/step - loss: 21.0097 - mean_absolute_error: 21.5443\n",
      "Epoch 72/100\n",
      "10/10 [==============================] - 1s 81ms/step - loss: 21.0402 - mean_absolute_error: 21.6571\n",
      "Epoch 73/100\n",
      "10/10 [==============================] - 1s 94ms/step - loss: 22.6164 - mean_absolute_error: 22.6262\n",
      "Epoch 74/100\n",
      "10/10 [==============================] - 1s 96ms/step - loss: 25.4932 - mean_absolute_error: 25.7105\n",
      "Epoch 75/100\n",
      "10/10 [==============================] - 1s 93ms/step - loss: 23.4223 - mean_absolute_error: 23.8870\n",
      "Epoch 76/100\n",
      "10/10 [==============================] - 1s 93ms/step - loss: 22.6327 - mean_absolute_error: 23.2972\n",
      "Epoch 77/100\n",
      "10/10 [==============================] - 1s 97ms/step - loss: 25.0630 - mean_absolute_error: 25.7778\n",
      "Epoch 78/100\n",
      "10/10 [==============================] - 1s 98ms/step - loss: 23.0762 - mean_absolute_error: 23.5375\n",
      "Epoch 79/100\n",
      "10/10 [==============================] - 1s 71ms/step - loss: 20.7277 - mean_absolute_error: 20.8377\n",
      "Epoch 80/100\n",
      "10/10 [==============================] - 1s 71ms/step - loss: 21.9446 - mean_absolute_error: 22.4630\n",
      "Epoch 81/100\n",
      "10/10 [==============================] - 1s 69ms/step - loss: 22.8411 - mean_absolute_error: 22.5063\n",
      "Epoch 82/100\n",
      "10/10 [==============================] - 1s 69ms/step - loss: 52.3379 - mean_absolute_error: 53.4740\n",
      "Epoch 83/100\n",
      "10/10 [==============================] - 1s 71ms/step - loss: 44.4796 - mean_absolute_error: 45.0516\n",
      "Epoch 84/100\n",
      "10/10 [==============================] - 1s 122ms/step - loss: 46.6226 - mean_absolute_error: 47.0452\n",
      "Epoch 85/100\n",
      "10/10 [==============================] - 1s 95ms/step - loss: 48.0195 - mean_absolute_error: 48.0933\n",
      "Epoch 86/100\n",
      "10/10 [==============================] - 1s 97ms/step - loss: 47.2783 - mean_absolute_error: 47.6574\n",
      "Epoch 87/100\n",
      "10/10 [==============================] - 1s 101ms/step - loss: 53.9044 - mean_absolute_error: 54.3748\n",
      "Epoch 88/100\n",
      "10/10 [==============================] - 1s 75ms/step - loss: 52.4755 - mean_absolute_error: 53.1614\n",
      "Epoch 89/100\n",
      "10/10 [==============================] - 1s 74ms/step - loss: 50.6340 - mean_absolute_error: 51.1676\n",
      "Epoch 90/100\n",
      "10/10 [==============================] - 1s 79ms/step - loss: 50.1217 - mean_absolute_error: 50.5640\n",
      "Epoch 91/100\n",
      "10/10 [==============================] - 1s 80ms/step - loss: 52.1743 - mean_absolute_error: 52.6445\n",
      "Epoch 92/100\n",
      "10/10 [==============================] - 1s 93ms/step - loss: 51.1273 - mean_absolute_error: 51.5788\n",
      "Epoch 93/100\n",
      "10/10 [==============================] - 1s 99ms/step - loss: 54.5398 - mean_absolute_error: 55.0012\n",
      "Epoch 94/100\n",
      "10/10 [==============================] - 1s 96ms/step - loss: 51.6331 - mean_absolute_error: 52.0132\n",
      "Epoch 95/100\n",
      "10/10 [==============================] - 1s 96ms/step - loss: 51.4421 - mean_absolute_error: 52.0051\n",
      "Epoch 96/100\n",
      "10/10 [==============================] - 1s 100ms/step - loss: 51.0856 - mean_absolute_error: 51.5465\n",
      "Epoch 97/100\n",
      "10/10 [==============================] - 1s 89ms/step - loss: 51.8109 - mean_absolute_error: 52.2237\n",
      "Epoch 98/100\n",
      "10/10 [==============================] - 1s 87ms/step - loss: 51.8435 - mean_absolute_error: 52.3460\n",
      "Epoch 99/100\n",
      "10/10 [==============================] - 1s 72ms/step - loss: 51.4604 - mean_absolute_error: 52.1025\n",
      "Epoch 100/100\n",
      "10/10 [==============================] - 1s 100ms/step - loss: 51.5159 - mean_absolute_error: 52.1403\n"
     ]
    }
   ],
   "source": [
    "lr_schedule = tf.keras.callbacks.LearningRateScheduler(\n",
    "    lambda epoch: 1e-8 * 10**(epoch / 20))\n",
    "optimizer = tf.keras.optimizers.SGD(lr=1e-8, momentum=0.9)\n",
    "model.compile(loss=tf.keras.losses.Huber(),\n",
    "              optimizer=optimizer,\n",
    "              metrics=[\"mae\"])\n",
    "history = model.fit(train_set, epochs=100, callbacks=[lr_schedule])"
   ]
  },
  {
   "cell_type": "code",
   "execution_count": null,
   "metadata": {},
   "outputs": [],
   "source": []
  }
 ],
 "metadata": {
  "kernelspec": {
   "display_name": "Python 3",
   "language": "python",
   "name": "python3"
  },
  "language_info": {
   "codemirror_mode": {
    "name": "ipython",
    "version": 3
   },
   "file_extension": ".py",
   "mimetype": "text/x-python",
   "name": "python",
   "nbconvert_exporter": "python",
   "pygments_lexer": "ipython3",
   "version": "3.7.5"
  }
 },
 "nbformat": 4,
 "nbformat_minor": 4
}
